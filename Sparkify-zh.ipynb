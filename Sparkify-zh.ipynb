{
 "cells": [
  {
   "cell_type": "markdown",
   "metadata": {},
   "source": [
    "# Sparkify 项目 Workspace\n",
    "这个 Workspace 包括一个迷你的子数据集（128MB），是完整数据集（12GB）的一个子集。在将你的项目部署到云上之前，你可以自由使用 Workspace 来创建你的项目或用Spark来探索这个较小数据集。设置 Spark 集群的指南可以在选修 Spark 课程的内容里找到。\n",
    "\n",
    "你可以依照下面的步骤进行项目的数据分析和模型搭建部分。"
   ]
  },
  {
   "cell_type": "code",
   "execution_count": 1,
   "metadata": {},
   "outputs": [],
   "source": [
    "# import libraries\n",
    "import pyspark\n",
    "from pyspark.sql import SparkSession, DataFrameNaFunctions, Window\n",
    "from pyspark.sql.functions import udf, asc, desc, col, concat, lit, collect_list, \\\n",
    "                                min, max, avg, stddev, split, first, last, regexp_replace, \\\n",
    "                                weekofyear, year, datediff, dayofyear, date_sub, lag\n",
    "from pyspark.sql.functions import sum as Fsum\n",
    "\n",
    "from pyspark.sql.types import IntegerType, StringType, StructField, StructType, LongType\n",
    "from pyspark.ml import Pipeline\n",
    "from pyspark.ml.feature import StringIndexer, VectorAssembler, StandardScaler\n",
    "from pyspark.ml.classification import LogisticRegression, GBTClassifier, RandomForestClassifier, NaiveBayes\n",
    "from pyspark.ml.tuning import ParamGridBuilder, CrossValidator\n",
    "from pyspark.ml.evaluation import MulticlassClassificationEvaluator\n",
    "\n",
    "import numpy as np\n",
    "import pandas as pd\n",
    "import datetime\n",
    "\n",
    "import matplotlib.pyplot as plt\n",
    "import httpagentparser as hap\n",
    "% matplotlib inline"
   ]
  },
  {
   "cell_type": "code",
   "execution_count": 2,
   "metadata": {},
   "outputs": [],
   "source": [
    "# create a Spark session\n",
    "spark = SparkSession.builder \\\n",
    "    .master(\"local\") \\\n",
    "    .appName(\"Sparkify\") \\\n",
    "    .getOrCreate()"
   ]
  },
  {
   "cell_type": "markdown",
   "metadata": {},
   "source": [
    "# 加载和清洗数据\n",
    "在这个 Workspace 中，小数据集的名称是 `mini_sparkify_event_data.json`.加载和清洗数据集，检查是否有无效或缺失数据——例如，没有userid或sessionid的数据。 "
   ]
  },
  {
   "cell_type": "code",
   "execution_count": 54,
   "metadata": {},
   "outputs": [
    {
     "data": {
      "text/plain": [
       "[Row(artist='Martin Orford', auth='Logged In', firstName='Joseph', gender='M', itemInSession=20, lastName='Morales', length=597.55057, level='free', location='Corpus Christi, TX', method='PUT', page='NextSong', registration=1532063507000, sessionId=292, song='Grand Designs', status=200, ts=1538352011000, userAgent='\"Mozilla/5.0 (Macintosh; Intel Mac OS X 10_9_4) AppleWebKit/537.36 (KHTML, like Gecko) Chrome/36.0.1985.125 Safari/537.36\"', userId='293'),\n",
       " Row(artist=\"John Brown's Body\", auth='Logged In', firstName='Sawyer', gender='M', itemInSession=74, lastName='Larson', length=380.21179, level='free', location='Houston-The Woodlands-Sugar Land, TX', method='PUT', page='NextSong', registration=1538069638000, sessionId=97, song='Bulls', status=200, ts=1538352025000, userAgent='\"Mozilla/5.0 (Macintosh; Intel Mac OS X 10_9_4) AppleWebKit/537.36 (KHTML, like Gecko) Chrome/36.0.1985.143 Safari/537.36\"', userId='98'),\n",
       " Row(artist='Afroman', auth='Logged In', firstName='Maverick', gender='M', itemInSession=184, lastName='Santiago', length=202.37016, level='paid', location='Orlando-Kissimmee-Sanford, FL', method='PUT', page='NextSong', registration=1535953455000, sessionId=178, song='Because I Got High', status=200, ts=1538352118000, userAgent='\"Mozilla/5.0 (Macintosh; Intel Mac OS X 10_9_4) AppleWebKit/537.36 (KHTML, like Gecko) Chrome/36.0.1985.143 Safari/537.36\"', userId='179'),\n",
       " Row(artist=None, auth='Logged In', firstName='Maverick', gender='M', itemInSession=185, lastName='Santiago', length=None, level='paid', location='Orlando-Kissimmee-Sanford, FL', method='PUT', page='Logout', registration=1535953455000, sessionId=178, song=None, status=307, ts=1538352119000, userAgent='\"Mozilla/5.0 (Macintosh; Intel Mac OS X 10_9_4) AppleWebKit/537.36 (KHTML, like Gecko) Chrome/36.0.1985.143 Safari/537.36\"', userId='179'),\n",
       " Row(artist='Lily Allen', auth='Logged In', firstName='Gianna', gender='F', itemInSession=22, lastName='Campos', length=194.53342, level='paid', location='Mobile, AL', method='PUT', page='NextSong', registration=1535931018000, sessionId=245, song='Smile (Radio Edit)', status=200, ts=1538352124000, userAgent='Mozilla/5.0 (Windows NT 6.1; WOW64; rv:31.0) Gecko/20100101 Firefox/31.0', userId='246')]"
      ]
     },
     "execution_count": 54,
     "metadata": {},
     "output_type": "execute_result"
    }
   ],
   "source": [
    "# load the dataset\n",
    "df = spark.read.json('medium-sparkify-event-data.json')\n",
    "df.take(5)"
   ]
  },
  {
   "cell_type": "code",
   "execution_count": 4,
   "metadata": {},
   "outputs": [
    {
     "name": "stdout",
     "output_type": "stream",
     "text": [
      "root\n",
      " |-- artist: string (nullable = true)\n",
      " |-- auth: string (nullable = true)\n",
      " |-- firstName: string (nullable = true)\n",
      " |-- gender: string (nullable = true)\n",
      " |-- itemInSession: long (nullable = true)\n",
      " |-- lastName: string (nullable = true)\n",
      " |-- length: double (nullable = true)\n",
      " |-- level: string (nullable = true)\n",
      " |-- location: string (nullable = true)\n",
      " |-- method: string (nullable = true)\n",
      " |-- page: string (nullable = true)\n",
      " |-- registration: long (nullable = true)\n",
      " |-- sessionId: long (nullable = true)\n",
      " |-- song: string (nullable = true)\n",
      " |-- status: long (nullable = true)\n",
      " |-- ts: long (nullable = true)\n",
      " |-- userAgent: string (nullable = true)\n",
      " |-- userId: string (nullable = true)\n",
      "\n"
     ]
    }
   ],
   "source": [
    "# evaluate the dataset\n",
    "df.printSchema()"
   ]
  },
  {
   "cell_type": "code",
   "execution_count": 5,
   "metadata": {},
   "outputs": [
    {
     "name": "stdout",
     "output_type": "stream",
     "text": [
      "+-------+-----------------+----------+---------+------+------------------+--------+------------------+------+----------------+------+-------+--------------------+------------------+--------------------+------------------+--------------------+--------------------+------------------+\n",
      "|summary|           artist|      auth|firstName|gender|     itemInSession|lastName|            length| level|        location|method|   page|        registration|         sessionId|                song|            status|                  ts|           userAgent|            userId|\n",
      "+-------+-----------------+----------+---------+------+------------------+--------+------------------+------+----------------+------+-------+--------------------+------------------+--------------------+------------------+--------------------+--------------------+------------------+\n",
      "|  count|           432877|    543705|   528005|528005|            543705|  528005|            432877|543705|          528005|543705| 543705|              528005|            543705|              432877|            543705|              543705|              528005|            543705|\n",
      "|   mean|527.5289537712895|      null|     null|  null|107.30629109535502|    null|248.66459278007807|  null|            null|  null|   null|1.535523414862806...|2040.8143533717732|            Infinity|210.01829116892432|1.540964541209808E12|                null| 60268.42669103512|\n",
      "| stddev|966.1072451772758|      null|     null|  null|116.72350849187941|    null| 98.41266955052018|  null|            null|  null|   null|3.0787254929942865E9|1434.3389310782754|                 NaN| 31.47191902156764|1.4820571448945475E9|                null|109898.82324176644|\n",
      "|    min|              !!!| Cancelled|  Aaliyah|     F|                 0|  Abbott|           0.78322|  free|       Akron, OH|   GET|  About|       1509854193000|                 1|\u001c",
      "ÃÂg ÃÂtti Gr...|               200|       1538352011000|\"Mozilla/5.0 (Mac...|                  |\n",
      "|    max|ÃÂlafur Arnalds|Logged Out|   Zyonna|     M|              1005|  Wright|        3024.66567|  paid|York-Hanover, PA|   PUT|Upgrade|       1543073874000|              4808|ÃÂ¾etta Gerist Ã...|               404|       1543622466000|Mozilla/5.0 (comp...|                99|\n",
      "+-------+-----------------+----------+---------+------+------------------+--------+------------------+------+----------------+------+-------+--------------------+------------------+--------------------+------------------+--------------------+--------------------+------------------+\n",
      "\n"
     ]
    }
   ],
   "source": [
    "# evaluate the dataset\n",
    "df.describe().show()"
   ]
  },
  {
   "cell_type": "markdown",
   "metadata": {},
   "source": [
    "#### 数据集评估\n",
    "1. 该数据集共有543705条记录，每条记录有18列特征，其中六列为数值型特征，其他均为类别特征。\n",
    "2. 在18个特征中，有9列包含缺失值，其中具有完整身份信息的(姓名、性别、地区、注册号、Agent）共528005行，具有完整歌曲信息的（歌手、歌名、歌曲长度）共432877行。\n",
    "3. ts和registration特征的数据类型应为时间数据，status的数据类型应为类别数据。\n",
    "4. location特征中包含了州和市，可进行拆分；userAgent特征中包含了操作系统、浏览器等信息，可进行拆分。"
   ]
  },
  {
   "cell_type": "markdown",
   "metadata": {},
   "source": [
    "#### 清洗数据集\n",
    "1. 处理身份信息不完整的行。（歌曲信息不完整是因为访问的页面不是歌曲页面，所以不做处理）\n",
    "2. 修改错误的数据类型。\n",
    "3. 从location特征中分离用户所在州。\n",
    "4. 从userAgent特征中分离用户使用的操作系统和浏览器。"
   ]
  },
  {
   "cell_type": "code",
   "execution_count": 6,
   "metadata": {},
   "outputs": [
    {
     "data": {
      "text/plain": [
       "[Row(summary='count', artist='0', auth='15700', firstName='0', gender='0', itemInSession='15700', lastName='0', length='0', level='15700', location='0', method='15700', page='15700', registration='0', sessionId='15700', song='0', status='15700', ts='15700', userAgent='0', userId='15700'),\n",
       " Row(summary='mean', artist=None, auth=None, firstName=None, gender=None, itemInSession='91.40885350318472', lastName=None, length=None, level=None, location=None, method=None, page=None, registration=None, sessionId='1967.9756050955414', song=None, status='241.20184713375795', ts='1.5408842797871975E12', userAgent=None, userId=None),\n",
       " Row(summary='stddev', artist=None, auth=None, firstName=None, gender=None, itemInSession='110.7026037346012', lastName=None, length=None, level=None, location=None, method=None, page=None, registration=None, sessionId='1443.9082796085377', song=None, status='52.262276278215914', ts='1.5073579015081034E9', userAgent=None, userId=None),\n",
       " Row(summary='min', artist=None, auth='Guest', firstName=None, gender=None, itemInSession='0', lastName=None, length=None, level='free', location=None, method='GET', page='About', registration=None, sessionId='1', song=None, status='200', ts='1538352148000', userAgent=None, userId=''),\n",
       " Row(summary='max', artist=None, auth='Logged Out', firstName=None, gender=None, itemInSession='925', lastName=None, length=None, level='paid', location=None, method='PUT', page='Submit Registration', registration=None, sessionId='4790', song=None, status='404', ts='1543622159000', userAgent=None, userId='')]"
      ]
     },
     "execution_count": 6,
     "metadata": {},
     "output_type": "execute_result"
    }
   ],
   "source": [
    "# find the missing value in user's information\n",
    "df.filter(df.firstName.isNull()).describe().collect()\n",
    "\n",
    "# 这15700行均无身份信息，无registration，userId均为‘’"
   ]
  },
  {
   "cell_type": "code",
   "execution_count": 7,
   "metadata": {},
   "outputs": [],
   "source": [
    "# 猜测是还未注册的用户，所以这部分不在我们分析的范畴内，将这些行删除。\n",
    "df = df.filter(df.userId != '')"
   ]
  },
  {
   "cell_type": "code",
   "execution_count": 8,
   "metadata": {},
   "outputs": [
    {
     "name": "stdout",
     "output_type": "stream",
     "text": [
      "+--------------------+-----+\n",
      "|                page|count|\n",
      "+--------------------+-----+\n",
      "|              Cancel|   99|\n",
      "|    Submit Downgrade|  117|\n",
      "|         Thumbs Down| 4911|\n",
      "|                Home|19089|\n",
      "|           Downgrade| 3811|\n",
      "|         Roll Advert| 7773|\n",
      "|              Logout| 5990|\n",
      "|       Save Settings|  585|\n",
      "|Cancellation Conf...|   99|\n",
      "|               About| 1026|\n",
      "|            Settings| 2964|\n",
      "|     Add to Playlist|12349|\n",
      "|          Add Friend| 8087|\n",
      "|           Thumbs Up|23826|\n",
      "|                Help| 2644|\n",
      "|             Upgrade|  968|\n",
      "|               Error|  503|\n",
      "|      Submit Upgrade|  287|\n",
      "+--------------------+-----+\n",
      "\n"
     ]
    }
   ],
   "source": [
    "# 歌曲信息缺失是由于浏览的不是歌曲界面，所以不用进行缺失值处理\n",
    "df.filter(df.artist.isNull()).groupBy('page').count().show()"
   ]
  },
  {
   "cell_type": "code",
   "execution_count": 9,
   "metadata": {},
   "outputs": [],
   "source": [
    "# define to_string function\n",
    "to_string = udf(lambda x: str(x), StringType())"
   ]
  },
  {
   "cell_type": "code",
   "execution_count": 10,
   "metadata": {},
   "outputs": [],
   "source": [
    "# change the data type of 'status'\n",
    "df = df.withColumn('status_str', to_string(df.status))"
   ]
  },
  {
   "cell_type": "code",
   "execution_count": 11,
   "metadata": {},
   "outputs": [],
   "source": [
    "# define the to_date function\n",
    "to_date = udf(lambda x: datetime.datetime.fromtimestamp(x/1e3).strftime('%Y-%m-%d %H:%M:%S'))"
   ]
  },
  {
   "cell_type": "code",
   "execution_count": 12,
   "metadata": {},
   "outputs": [],
   "source": [
    "# change the data type of 'ts' and 'registration'\n",
    "df = df.withColumn('regist_date', to_date(df.registration))\n",
    "df = df.withColumn('log_date', to_date(df.ts))"
   ]
  },
  {
   "cell_type": "code",
   "execution_count": 13,
   "metadata": {},
   "outputs": [],
   "source": [
    "# define find_state function\n",
    "find_state = udf(lambda x: x.split(',')[-1][1:3], StringType())"
   ]
  },
  {
   "cell_type": "code",
   "execution_count": 14,
   "metadata": {},
   "outputs": [],
   "source": [
    "# create the state feature\n",
    "df = df.withColumn('state', find_state(df.location))"
   ]
  },
  {
   "cell_type": "code",
   "execution_count": 15,
   "metadata": {},
   "outputs": [],
   "source": [
    "# define find_os function and find_browser function\n",
    "find_os =  udf(lambda x: hap.simple_detect(x)[0], StringType())\n",
    "find_browser = udf(lambda x: hap.simple_detect(x)[1], StringType())"
   ]
  },
  {
   "cell_type": "code",
   "execution_count": 16,
   "metadata": {},
   "outputs": [],
   "source": [
    "# create os and browser features\n",
    "df = df.withColumn('os', find_os(df.userAgent))\n",
    "df = df.withColumn('browser', find_browser(df.userAgent))"
   ]
  },
  {
   "cell_type": "code",
   "execution_count": 17,
   "metadata": {},
   "outputs": [
    {
     "data": {
      "text/plain": [
       "[Row(artist='Martin Orford', auth='Logged In', firstName='Joseph', gender='M', itemInSession=20, lastName='Morales', length=597.55057, level='free', location='Corpus Christi, TX', method='PUT', page='NextSong', registration=1532063507000, sessionId=292, song='Grand Designs', status=200, ts=1538352011000, userAgent='\"Mozilla/5.0 (Macintosh; Intel Mac OS X 10_9_4) AppleWebKit/537.36 (KHTML, like Gecko) Chrome/36.0.1985.125 Safari/537.36\"', userId='293', status_str='200', regist_date='2018-07-20 13:11:47', log_date='2018-10-01 08:00:11', state='TX', os='MacOS Macintosh X 10.9.4', browser='Chrome 36.0.1985.125'),\n",
       " Row(artist=\"John Brown's Body\", auth='Logged In', firstName='Sawyer', gender='M', itemInSession=74, lastName='Larson', length=380.21179, level='free', location='Houston-The Woodlands-Sugar Land, TX', method='PUT', page='NextSong', registration=1538069638000, sessionId=97, song='Bulls', status=200, ts=1538352025000, userAgent='\"Mozilla/5.0 (Macintosh; Intel Mac OS X 10_9_4) AppleWebKit/537.36 (KHTML, like Gecko) Chrome/36.0.1985.143 Safari/537.36\"', userId='98', status_str='200', regist_date='2018-09-28 01:33:58', log_date='2018-10-01 08:00:25', state='TX', os='MacOS Macintosh X 10.9.4', browser='Chrome 36.0.1985.143'),\n",
       " Row(artist='Afroman', auth='Logged In', firstName='Maverick', gender='M', itemInSession=184, lastName='Santiago', length=202.37016, level='paid', location='Orlando-Kissimmee-Sanford, FL', method='PUT', page='NextSong', registration=1535953455000, sessionId=178, song='Because I Got High', status=200, ts=1538352118000, userAgent='\"Mozilla/5.0 (Macintosh; Intel Mac OS X 10_9_4) AppleWebKit/537.36 (KHTML, like Gecko) Chrome/36.0.1985.143 Safari/537.36\"', userId='179', status_str='200', regist_date='2018-09-03 13:44:15', log_date='2018-10-01 08:01:58', state='FL', os='MacOS Macintosh X 10.9.4', browser='Chrome 36.0.1985.143'),\n",
       " Row(artist=None, auth='Logged In', firstName='Maverick', gender='M', itemInSession=185, lastName='Santiago', length=None, level='paid', location='Orlando-Kissimmee-Sanford, FL', method='PUT', page='Logout', registration=1535953455000, sessionId=178, song=None, status=307, ts=1538352119000, userAgent='\"Mozilla/5.0 (Macintosh; Intel Mac OS X 10_9_4) AppleWebKit/537.36 (KHTML, like Gecko) Chrome/36.0.1985.143 Safari/537.36\"', userId='179', status_str='307', regist_date='2018-09-03 13:44:15', log_date='2018-10-01 08:01:59', state='FL', os='MacOS Macintosh X 10.9.4', browser='Chrome 36.0.1985.143'),\n",
       " Row(artist='Lily Allen', auth='Logged In', firstName='Gianna', gender='F', itemInSession=22, lastName='Campos', length=194.53342, level='paid', location='Mobile, AL', method='PUT', page='NextSong', registration=1535931018000, sessionId=245, song='Smile (Radio Edit)', status=200, ts=1538352124000, userAgent='Mozilla/5.0 (Windows NT 6.1; WOW64; rv:31.0) Gecko/20100101 Firefox/31.0', userId='246', status_str='200', regist_date='2018-09-03 07:30:18', log_date='2018-10-01 08:02:04', state='AL', os='Windows 7', browser='Firefox 31.0')]"
      ]
     },
     "execution_count": 17,
     "metadata": {},
     "output_type": "execute_result"
    }
   ],
   "source": [
    "df.take(5)"
   ]
  },
  {
   "cell_type": "markdown",
   "metadata": {},
   "source": [
    "# 探索性数据分析\n",
    "当你使用完整数据集时，通过加载小数据集，在 Spark 中完成基础操作来实现探索性数据分析。在这个 Workspace 中，我们已经提供给你一个你可以探索的小数据集。\n",
    "\n",
    "### 定义客户流失\n",
    "\n",
    "在你完成初步分析之后，创建一列 `Churn` 作为模型的标签。我建议你使用 `Cancellation Confirmation` 事件来定义客户流失，该事件在付费或免费客户身上都有发生。作为一个奖励任务，你也可以深入了解 `Downgrade` 事件。\n",
    "\n",
    "### 探索数据\n",
    "你定义好客户流失后，就可以执行一些探索性数据分析，观察留存用户和流失用户的行为。你可以首先把这两类用户的数据聚合到一起，观察固定时间内某个特定动作出现的次数或者播放音乐的数量。"
   ]
  },
  {
   "cell_type": "code",
   "execution_count": 18,
   "metadata": {},
   "outputs": [],
   "source": [
    "# define churn actions\n",
    "is_churn = udf(lambda x: 1 if x == 'Cancellation Confirmation' else 0, IntegerType())\n",
    "# create the churn column\n",
    "df = df.withColumn('churn', is_churn(df.page))"
   ]
  },
  {
   "cell_type": "code",
   "execution_count": 19,
   "metadata": {},
   "outputs": [],
   "source": [
    "# get all the churn users'ID\n",
    "churn_users = df.filter(df.churn == 1).select(collect_list('userId')).first()[0]\n",
    "\n",
    "# define churn users\n",
    "is_churn_user = udf(lambda x: 1 if x in churn_users else 0, IntegerType())\n",
    "\n",
    "# create the churn_user column\n",
    "df = df.withColumn('churn_user', is_churn_user(df.userId))"
   ]
  },
  {
   "cell_type": "markdown",
   "metadata": {},
   "source": [
    "#### 探索性数据分析\n",
    "1. sparkify上共有多少用户，其中男性和女性用户各占多少？\n",
    "2. 目前共有多少付费用户，多少免费用户？付费用户中男性。女性用户各多少？\n",
    "3. 有多少流失用户？其中付费和免费用户各占多少？\n",
    "4. 正常用户和流失用户各使用sparkify多长时间？\n",
    "5. 正常用户和流失用户各自偏好浏览哪些页面？\n",
    "6. 地点对于客户流失的影响？\n",
    "7. 操作系统和浏览器对于用户流失的影响？\n",
    "8. 正常用户和流失用户各使用了几次？\n",
    "9. 正常用户和流失用户每次平均使用多长时间？\n",
    "10. 正常用户和流失用户每次使用浏览页面数量？\n",
    "11. 正常用户和流失用户每次使用听歌数量？\n",
    "12. 正常用户和流失用户每次使用听歌页面占浏览页面的比例分别是多少？\n",
    "13. 正常用户和流失用户最新一次使用时对各类页面的访问比例\n",
    "14. 正常用户和流失用户每次使用的间隔时间？"
   ]
  },
  {
   "cell_type": "code",
   "execution_count": 20,
   "metadata": {},
   "outputs": [
    {
     "data": {
      "text/plain": [
       "[Row(gender='F', count=198), Row(gender='M', count=250)]"
      ]
     },
     "execution_count": 20,
     "metadata": {},
     "output_type": "execute_result"
    }
   ],
   "source": [
    "# 1. sparkify上共有多少用户，其中男性和女性用户各占多少？\n",
    "df.select(['userId','gender']).dropDuplicates().groupBy('gender').count().collect()\n",
    "\n",
    "# 共计448个用户， 其中198个女性用户，250个男性用户"
   ]
  },
  {
   "cell_type": "code",
   "execution_count": 21,
   "metadata": {},
   "outputs": [],
   "source": [
    "# 2. 目前共有多少付费用户，多少免费用户？付费用户中男性。女性用户各多少？\n",
    "## 计算用户最新level状态\n",
    "w1 = Window.partitionBy('userId').orderBy(desc('ts')).rangeBetween(Window.unboundedPreceding, 0)\n",
    "df = df.withColumn('now_level', first('level').over(w1))"
   ]
  },
  {
   "cell_type": "code",
   "execution_count": 22,
   "metadata": {},
   "outputs": [
    {
     "data": {
      "text/plain": [
       "[Row(now_level='free', count=172), Row(now_level='paid', count=276)]"
      ]
     },
     "execution_count": 22,
     "metadata": {},
     "output_type": "execute_result"
    }
   ],
   "source": [
    "## 计算付费用户和免费用户数量\n",
    "df.select(['userId','now_level']).dropDuplicates().groupBy('now_level').count().collect()\n",
    "\n",
    "# 448个用户中，目前付费用户276个，免费用户172个"
   ]
  },
  {
   "cell_type": "code",
   "execution_count": 23,
   "metadata": {},
   "outputs": [
    {
     "data": {
      "text/plain": [
       "<matplotlib.axes._subplots.AxesSubplot at 0x14fbf605080>"
      ]
     },
     "execution_count": 23,
     "metadata": {},
     "output_type": "execute_result"
    },
    {
     "data": {
      "image/png": "[encoded data removed]",
      "text/plain": [
       "<Figure size 432x288 with 1 Axes>"
      ]
     },
     "metadata": {},
     "output_type": "display_data"
    }
   ],
   "source": [
    "## 用户level和用户性别\n",
    "level_gender_df = df.select(['userId','gender','now_level']).dropDuplicates() \\\n",
    "                    .groupby(['now_level','gender']).count().toPandas()\n",
    "level_gender_df.pivot('now_level','gender','count').plot(kind = 'bar', stacked = True)"
   ]
  },
  {
   "cell_type": "code",
   "execution_count": 24,
   "metadata": {},
   "outputs": [
    {
     "data": {
      "text/plain": [
       "[Row(churn_user=1, count=99), Row(churn_user=0, count=349)]"
      ]
     },
     "execution_count": 24,
     "metadata": {},
     "output_type": "execute_result"
    }
   ],
   "source": [
    "# 3. 有多少流失用户？其中付费和免费用户各占多少？\n",
    "## 流失用户数量\n",
    "df.select(['userId','churn_user']).dropDuplicates().groupBy('churn_user').count().collect()\n",
    "\n",
    "# 在448个用户中，流失用户为99个"
   ]
  },
  {
   "cell_type": "code",
   "execution_count": 25,
   "metadata": {},
   "outputs": [
    {
     "data": {
      "text/plain": [
       "<matplotlib.axes._subplots.AxesSubplot at 0x14fbfe37390>"
      ]
     },
     "execution_count": 25,
     "metadata": {},
     "output_type": "execute_result"
    },
    {
     "data": {
      "image/png": "[encoded data removed]",
      "text/plain": [
       "<Figure size 432x288 with 1 Axes>"
      ]
     },
     "metadata": {},
     "output_type": "display_data"
    }
   ],
   "source": [
    "## 流失用户中付费和免费用户比例\n",
    "churn_level_df = df.select(['userId','churn_user','now_level']).dropDuplicates() \\\n",
    "                    .groupBy(['churn_user','now_level']).count().toPandas()\n",
    "churn_level_df.pivot('churn_user', 'now_level','count').plot(kind = 'bar', stacked = True)\n",
    "\n",
    "# 99个流失用户中67个付费用户，32个免费用户；付费用户在流失用户中的比例高于正常用户"
   ]
  },
  {
   "cell_type": "code",
   "execution_count": 26,
   "metadata": {},
   "outputs": [],
   "source": [
    "# 4. 正常用户和流失用户各使用sparkify多长时间？\n",
    "## 根据regist_date和最新的log_date 计算用户使用时长\n",
    "df = df.withColumn('days_since_regist',datediff(df.log_date, df.regist_date))\n",
    "## 提取正常用户使用时长数据集\n",
    "days_used_unchurn = df.filter(df.churn_user == 0) \\\n",
    "                        .select(['userId', 'days_since_regist']) \\\n",
    "                        .groupby('userId').max().toPandas()\n",
    "days_used_churn = df.filter(df.churn_user == 1) \\\n",
    "                        .select(['userId', 'days_since_regist']) \\\n",
    "                        .groupby('userId').max().toPandas()"
   ]
  },
  {
   "cell_type": "code",
   "execution_count": 27,
   "metadata": {},
   "outputs": [
    {
     "data": {
      "text/plain": [
       "<matplotlib.legend.Legend at 0x14fbfed9400>"
      ]
     },
     "execution_count": 27,
     "metadata": {},
     "output_type": "execute_result"
    },
    {
     "data": {
      "image/png": "[encoded data removed]",
      "text/plain": [
       "<Figure size 432x288 with 1 Axes>"
      ]
     },
     "metadata": {},
     "output_type": "display_data"
    }
   ],
   "source": [
    "fig, ax = plt.subplots()\n",
    "ax.hist(days_used_unchurn['max(days_since_regist)'], label = 'unchurn', alpha = 0.3, bins = 20)\n",
    "ax.hist(days_used_churn['max(days_since_regist)'], label = 'churn', alpha = 0.3, bins = 20)\n",
    "plt.legend()\n",
    "\n",
    "# 从图片上看出，无论是流失用户还是正常用户，注册时间在50~100天左右的用户在所有用户中所占比例最大；\n",
    "# 正常用户的平均使用天数多于流失用户的平均实用天数；\n",
    "# 流失用户的分布形状与正常用户的分布形状不同，正常用户呈现一定的右尾形状，流失用户基本呈现正态分布；\n",
    "# 在流失用户中，注册50天以内的新用户比例明显高于正常用户"
   ]
  },
  {
   "cell_type": "code",
   "execution_count": 28,
   "metadata": {},
   "outputs": [
    {
     "data": {
      "text/plain": [
       "<matplotlib.axes._subplots.AxesSubplot at 0x14fc02e7cf8>"
      ]
     },
     "execution_count": 28,
     "metadata": {},
     "output_type": "execute_result"
    },
    {
     "data": {
      "image/png": "[encoded data removed]",
      "text/plain": [
       "<Figure size 432x288 with 1 Axes>"
      ]
     },
     "metadata": {},
     "output_type": "display_data"
    }
   ],
   "source": [
    "# 5. 正常用户和流失用户各自偏好浏览哪些页面？\n",
    "## 将流失用户和正常用户对不同页面的访问数量提取得到新的数据集page_df\n",
    "page_df = df.groupBy(['churn_user','userId','page']).count() \\\n",
    "            .orderBy(['page','churn_user'], ascending = True)\n",
    "## 计算流失用户和正常用户对某一页面的平均访问次数\n",
    "page_df = page_df.groupby(['page','churn_user']).mean().toPandas()\n",
    "## 对数据集进行转化并作图（因为不同页面访问数量差异较大，对数量取对数）\n",
    "page_df['avg(count)'] = np.log(page_df['avg(count)'] + 1)\n",
    "page_df.pivot('page','churn_user','avg(count)').fillna(0).plot(kind = 'bar')\n",
    "\n",
    "# 通过图片得到以下信息：\n",
    "## 1）Cancel和 Cancellation Comfirmation两个页面是流失用户的标记页面；\n",
    "## 2）流失用户对Error、Roll Advert和Thrumbs Down三个页面访问次数高于正常用户，猜测流失用户可能具有更为不好的用户体验；\n",
    "## 3）流失用户对Submit Upgrade, Upgrade, Submit Downgrade三个页面的访问次数略高于正常用户，\n",
    "##    猜测流失用户可能试图通过调整级别来改善使用体验；\n",
    "## 4）正常用户的Add Friend， Add to Playlist, NextSong, Thrumbs Up等页面访问次数明显高于流失用户，\n",
    "##    说明正常用户与sparkify应用的积极互动更多，更为活跃；"
   ]
  },
  {
   "cell_type": "code",
   "execution_count": 29,
   "metadata": {},
   "outputs": [
    {
     "data": {
      "text/plain": [
       "<matplotlib.legend.Legend at 0x14fc03bbfd0>"
      ]
     },
     "execution_count": 29,
     "metadata": {},
     "output_type": "execute_result"
    },
    {
     "data": {
      "image/png": "[encoded data removed]",
      "text/plain": [
       "<Figure size 432x288 with 1 Axes>"
      ]
     },
     "metadata": {},
     "output_type": "display_data"
    }
   ],
   "source": [
    "# 6. 地点对于客户流失的影响？\n",
    "## 流失客户的Roll Advert页面更多, 猜测广告的投放数量可能与用户所在地区有关\n",
    "## 提取用户地点数据集\n",
    "user_state_df = df.select(['churn_user','userId','state']).dropDuplicates().toPandas()\n",
    "\n",
    "## 对不同地点的流失用户比例作图\n",
    "user_state_df[user_state_df.churn_user == 0].groupby(['state'])['userId'].count() \\\n",
    "        .sort_index().plot(kind = 'bar', color = 'green', label = 'unchurn', alpha = 0.3)\n",
    "user_state_df[user_state_df.churn_user == 1].groupby(['state'])['userId'].count() \\\n",
    "        .sort_index().plot(kind = 'bar', color = 'red', label = 'churn', alpha = 0.3)\n",
    "plt.legend()\n",
    "\n",
    "# 下图显示，不同地区的流失用户比例出现较大差异，CT/MD/WA等地区流失用户比例非常低，CA/KY/PA等地区的流失用户比例非常高。"
   ]
  },
  {
   "cell_type": "code",
   "execution_count": 30,
   "metadata": {},
   "outputs": [],
   "source": [
    "# 7. 操作系统和浏览器对于用户流失的影响？\n",
    "## 流失用的Error访问页面高于正常用户，这可能是Sparkify与这些用户的使用终端不兼容导致的，因此探索一下操作系统和浏览器对于用户流失的影响。\n",
    "\n",
    "## 提取用户使用的终端数据集\n",
    "userAgent_df = df.select(['churn_user','userId', 'os', 'browser']).dropDuplicates().toPandas()"
   ]
  },
  {
   "cell_type": "code",
   "execution_count": 31,
   "metadata": {},
   "outputs": [
    {
     "data": {
      "text/plain": [
       "<matplotlib.legend.Legend at 0x14fc1539e80>"
      ]
     },
     "execution_count": 31,
     "metadata": {},
     "output_type": "execute_result"
    },
    {
     "data": {
      "image/png": "[encoded data removed]",
      "text/plain": [
       "<Figure size 432x288 with 1 Axes>"
      ]
     },
     "metadata": {},
     "output_type": "display_data"
    }
   ],
   "source": [
    "## 在不同操作系统上用户流失的比例\n",
    "userAgent_df[userAgent_df.churn_user == 0].groupby(['os'])['userId'].count() \\\n",
    "        .sort_index().plot(kind = 'bar', color = 'green', label = 'unchurn', alpha = 0.3)\n",
    "userAgent_df[userAgent_df.churn_user == 1].groupby(['os'])['userId'].count() \\\n",
    "        .sort_index().plot(kind = 'bar', color = 'red', label = 'churn', alpha = 0.3)\n",
    "plt.legend()\n",
    "\n",
    "# 下图显示在不同的操作系统上用户流失比例显著不同，如在iphone ios 7.1.2上用户流失的比例非常低，在windows 7上用户流失的比例非常高。"
   ]
  },
  {
   "cell_type": "code",
   "execution_count": 32,
   "metadata": {},
   "outputs": [
    {
     "data": {
      "text/plain": [
       "<matplotlib.legend.Legend at 0x14fbff15f98>"
      ]
     },
     "execution_count": 32,
     "metadata": {},
     "output_type": "execute_result"
    },
    {
     "data": {
      "image/png": "[encoded data removed]",
      "text/plain": [
       "<Figure size 432x288 with 1 Axes>"
      ]
     },
     "metadata": {},
     "output_type": "display_data"
    }
   ],
   "source": [
    "## 使用不同浏览器对用户流失的影响\n",
    "userAgent_df[userAgent_df.churn_user == 0].groupby(['browser'])['userId'].count() \\\n",
    "        .sort_index().plot(kind = 'bar', color = 'green', label = 'unchurn', alpha = 0.3)\n",
    "userAgent_df[userAgent_df.churn_user == 1].groupby(['browser'])['userId'].count() \\\n",
    "        .sort_index().plot(kind = 'bar', color = 'red', label = 'churn', alpha = 0.3)\n",
    "plt.legend()\n",
    "\n",
    "# 下图显示使用不同浏览器的用户流失比例具有显著差异，如使用chrome 37.0.2062.94的用户流失比例非常低，而使用firefox 31.0的用户流失比例非常高。"
   ]
  },
  {
   "cell_type": "code",
   "execution_count": 33,
   "metadata": {},
   "outputs": [
    {
     "data": {
      "text/plain": [
       "[Row(auth='Logged In', itemInSession=0, page='Home', sessionId=497, log_date='2018-10-01 08:04:01', ts=1538352241000),\n",
       " Row(auth='Logged In', itemInSession=1, page='NextSong', sessionId=497, log_date='2018-10-01 08:04:19', ts=1538352259000),\n",
       " Row(auth='Logged In', itemInSession=2, page='NextSong', sessionId=497, log_date='2018-10-01 08:07:40', ts=1538352460000),\n",
       " Row(auth='Logged In', itemInSession=3, page='Roll Advert', sessionId=497, log_date='2018-10-01 08:07:40', ts=1538352460000),\n",
       " Row(auth='Logged In', itemInSession=4, page='NextSong', sessionId=497, log_date='2018-10-01 08:10:47', ts=1538352647000),\n",
       " Row(auth='Logged In', itemInSession=5, page='Roll Advert', sessionId=497, log_date='2018-10-01 08:10:50', ts=1538352650000),\n",
       " Row(auth='Logged In', itemInSession=6, page='NextSong', sessionId=497, log_date='2018-10-01 08:14:30', ts=1538352870000),\n",
       " Row(auth='Logged In', itemInSession=7, page='Roll Advert', sessionId=497, log_date='2018-10-01 08:15:02', ts=1538352902000),\n",
       " Row(auth='Logged In', itemInSession=8, page='NextSong', sessionId=497, log_date='2018-10-01 08:18:29', ts=1538353109000),\n",
       " Row(auth='Logged In', itemInSession=9, page='NextSong', sessionId=497, log_date='2018-10-01 08:22:47', ts=1538353367000),\n",
       " Row(auth='Logged In', itemInSession=10, page='NextSong', sessionId=497, log_date='2018-10-01 08:26:34', ts=1538353594000),\n",
       " Row(auth='Logged In', itemInSession=11, page='NextSong', sessionId=497, log_date='2018-10-01 08:30:27', ts=1538353827000),\n",
       " Row(auth='Logged In', itemInSession=12, page='Roll Advert', sessionId=497, log_date='2018-10-01 08:30:49', ts=1538353849000),\n",
       " Row(auth='Logged In', itemInSession=13, page='NextSong', sessionId=497, log_date='2018-10-01 08:34:26', ts=1538354066000),\n",
       " Row(auth='Logged In', itemInSession=14, page='NextSong', sessionId=497, log_date='2018-10-01 08:38:46', ts=1538354326000),\n",
       " Row(auth='Logged In', itemInSession=15, page='NextSong', sessionId=497, log_date='2018-10-01 08:44:00', ts=1538354640000),\n",
       " Row(auth='Logged In', itemInSession=16, page='NextSong', sessionId=497, log_date='2018-10-01 08:46:13', ts=1538354773000),\n",
       " Row(auth='Logged In', itemInSession=17, page='NextSong', sessionId=497, log_date='2018-10-01 08:50:06', ts=1538355006000),\n",
       " Row(auth='Logged In', itemInSession=18, page='NextSong', sessionId=497, log_date='2018-10-01 08:57:16', ts=1538355436000),\n",
       " Row(auth='Logged In', itemInSession=19, page='NextSong', sessionId=497, log_date='2018-10-01 09:02:52', ts=1538355772000),\n",
       " Row(auth='Logged In', itemInSession=20, page='NextSong', sessionId=497, log_date='2018-10-01 09:06:29', ts=1538355989000),\n",
       " Row(auth='Logged In', itemInSession=21, page='NextSong', sessionId=497, log_date='2018-10-01 09:09:27', ts=1538356167000),\n",
       " Row(auth='Logged In', itemInSession=22, page='NextSong', sessionId=497, log_date='2018-10-01 09:12:10', ts=1538356330000),\n",
       " Row(auth='Logged In', itemInSession=23, page='NextSong', sessionId=497, log_date='2018-10-01 09:17:15', ts=1538356635000),\n",
       " Row(auth='Logged In', itemInSession=24, page='NextSong', sessionId=497, log_date='2018-10-01 09:20:31', ts=1538356831000),\n",
       " Row(auth='Logged In', itemInSession=25, page='NextSong', sessionId=497, log_date='2018-10-01 09:29:27', ts=1538357367000),\n",
       " Row(auth='Logged In', itemInSession=26, page='NextSong', sessionId=497, log_date='2018-10-01 09:34:13', ts=1538357653000),\n",
       " Row(auth='Logged In', itemInSession=27, page='Home', sessionId=497, log_date='2018-10-01 09:34:15', ts=1538357655000),\n",
       " Row(auth='Logged In', itemInSession=28, page='NextSong', sessionId=497, log_date='2018-10-01 09:37:54', ts=1538357874000),\n",
       " Row(auth='Logged In', itemInSession=29, page='NextSong', sessionId=497, log_date='2018-10-01 09:42:58', ts=1538358178000),\n",
       " Row(auth='Logged In', itemInSession=30, page='NextSong', sessionId=497, log_date='2018-10-01 09:45:36', ts=1538358336000),\n",
       " Row(auth='Logged In', itemInSession=31, page='Add to Playlist', sessionId=497, log_date='2018-10-01 09:45:41', ts=1538358341000),\n",
       " Row(auth='Logged In', itemInSession=32, page='NextSong', sessionId=497, log_date='2018-10-01 09:49:05', ts=1538358545000),\n",
       " Row(auth='Logged In', itemInSession=33, page='Roll Advert', sessionId=497, log_date='2018-10-01 09:49:06', ts=1538358546000),\n",
       " Row(auth='Logged In', itemInSession=34, page='NextSong', sessionId=497, log_date='2018-10-01 09:53:00', ts=1538358780000),\n",
       " Row(auth='Logged In', itemInSession=35, page='NextSong', sessionId=497, log_date='2018-10-01 09:55:53', ts=1538358953000),\n",
       " Row(auth='Logged In', itemInSession=36, page='NextSong', sessionId=497, log_date='2018-10-01 10:00:18', ts=1538359218000),\n",
       " Row(auth='Logged In', itemInSession=37, page='NextSong', sessionId=497, log_date='2018-10-01 10:05:25', ts=1538359525000),\n",
       " Row(auth='Logged In', itemInSession=38, page='NextSong', sessionId=497, log_date='2018-10-01 10:09:48', ts=1538359788000),\n",
       " Row(auth='Logged In', itemInSession=39, page='NextSong', sessionId=497, log_date='2018-10-01 10:13:26', ts=1538360006000),\n",
       " Row(auth='Logged In', itemInSession=40, page='Add to Playlist', sessionId=497, log_date='2018-10-01 10:13:39', ts=1538360019000),\n",
       " Row(auth='Logged In', itemInSession=41, page='NextSong', sessionId=497, log_date='2018-10-01 10:19:08', ts=1538360348000),\n",
       " Row(auth='Logged In', itemInSession=42, page='Logout', sessionId=497, log_date='2018-10-01 10:19:09', ts=1538360349000),\n",
       " Row(auth='Logged In', itemInSession=2, page='Home', sessionId=521, log_date='2018-10-02 18:06:45', ts=1538474805000),\n",
       " Row(auth='Logged In', itemInSession=3, page='NextSong', sessionId=521, log_date='2018-10-02 18:06:52', ts=1538474812000),\n",
       " Row(auth='Logged In', itemInSession=4, page='NextSong', sessionId=521, log_date='2018-10-02 18:10:56', ts=1538475056000),\n",
       " Row(auth='Logged In', itemInSession=5, page='NextSong', sessionId=521, log_date='2018-10-02 18:13:21', ts=1538475201000),\n",
       " Row(auth='Logged In', itemInSession=6, page='NextSong', sessionId=521, log_date='2018-10-02 18:16:46', ts=1538475406000),\n",
       " Row(auth='Logged In', itemInSession=7, page='NextSong', sessionId=521, log_date='2018-10-02 18:20:16', ts=1538475616000),\n",
       " Row(auth='Logged In', itemInSession=8, page='NextSong', sessionId=521, log_date='2018-10-02 18:23:44', ts=1538475824000),\n",
       " Row(auth='Logged In', itemInSession=9, page='NextSong', sessionId=521, log_date='2018-10-02 18:28:06', ts=1538476086000),\n",
       " Row(auth='Logged In', itemInSession=10, page='NextSong', sessionId=521, log_date='2018-10-02 18:33:49', ts=1538476429000),\n",
       " Row(auth='Logged In', itemInSession=11, page='Thumbs Up', sessionId=521, log_date='2018-10-02 18:33:50', ts=1538476430000),\n",
       " Row(auth='Logged In', itemInSession=12, page='NextSong', sessionId=521, log_date='2018-10-02 18:39:46', ts=1538476786000),\n",
       " Row(auth='Logged In', itemInSession=13, page='NextSong', sessionId=521, log_date='2018-10-02 18:43:12', ts=1538476992000),\n",
       " Row(auth='Logged In', itemInSession=14, page='NextSong', sessionId=521, log_date='2018-10-02 18:46:44', ts=1538477204000),\n",
       " Row(auth='Logged In', itemInSession=15, page='NextSong', sessionId=521, log_date='2018-10-02 18:50:26', ts=1538477426000),\n",
       " Row(auth='Logged In', itemInSession=16, page='NextSong', sessionId=521, log_date='2018-10-02 18:54:24', ts=1538477664000),\n",
       " Row(auth='Logged In', itemInSession=17, page='Upgrade', sessionId=521, log_date='2018-10-02 18:54:42', ts=1538477682000),\n",
       " Row(auth='Logged In', itemInSession=18, page='Submit Upgrade', sessionId=521, log_date='2018-10-02 18:54:43', ts=1538477683000),\n",
       " Row(auth='Logged In', itemInSession=19, page='Home', sessionId=521, log_date='2018-10-02 18:54:47', ts=1538477687000),\n",
       " Row(auth='Logged In', itemInSession=20, page='NextSong', sessionId=521, log_date='2018-10-02 18:58:44', ts=1538477924000),\n",
       " Row(auth='Logged In', itemInSession=21, page='NextSong', sessionId=521, log_date='2018-10-02 19:01:37', ts=1538478097000),\n",
       " Row(auth='Logged In', itemInSession=22, page='NextSong', sessionId=521, log_date='2018-10-02 19:05:13', ts=1538478313000),\n",
       " Row(auth='Logged In', itemInSession=23, page='NextSong', sessionId=521, log_date='2018-10-02 19:07:43', ts=1538478463000),\n",
       " Row(auth='Logged In', itemInSession=24, page='NextSong', sessionId=521, log_date='2018-10-02 19:12:56', ts=1538478776000),\n",
       " Row(auth='Logged In', itemInSession=25, page='NextSong', sessionId=521, log_date='2018-10-02 19:17:52', ts=1538479072000),\n",
       " Row(auth='Logged In', itemInSession=26, page='NextSong', sessionId=521, log_date='2018-10-02 19:21:51', ts=1538479311000),\n",
       " Row(auth='Logged In', itemInSession=27, page='NextSong', sessionId=521, log_date='2018-10-02 19:25:14', ts=1538479514000),\n",
       " Row(auth='Logged In', itemInSession=28, page='NextSong', sessionId=521, log_date='2018-10-02 19:27:44', ts=1538479664000),\n",
       " Row(auth='Logged In', itemInSession=29, page='NextSong', sessionId=521, log_date='2018-10-02 19:30:54', ts=1538479854000),\n",
       " Row(auth='Logged In', itemInSession=30, page='NextSong', sessionId=521, log_date='2018-10-02 19:34:28', ts=1538480068000),\n",
       " Row(auth='Logged In', itemInSession=31, page='NextSong', sessionId=521, log_date='2018-10-02 19:39:16', ts=1538480356000),\n",
       " Row(auth='Logged In', itemInSession=32, page='NextSong', sessionId=521, log_date='2018-10-02 19:42:46', ts=1538480566000),\n",
       " Row(auth='Logged In', itemInSession=33, page='NextSong', sessionId=521, log_date='2018-10-02 19:46:52', ts=1538480812000),\n",
       " Row(auth='Logged In', itemInSession=34, page='NextSong', sessionId=521, log_date='2018-10-02 19:50:27', ts=1538481027000),\n",
       " Row(auth='Logged In', itemInSession=35, page='NextSong', sessionId=521, log_date='2018-10-02 19:51:42', ts=1538481102000),\n",
       " Row(auth='Logged In', itemInSession=36, page='NextSong', sessionId=521, log_date='2018-10-02 19:56:09', ts=1538481369000),\n",
       " Row(auth='Logged In', itemInSession=37, page='NextSong', sessionId=521, log_date='2018-10-02 20:00:44', ts=1538481644000),\n",
       " Row(auth='Logged In', itemInSession=38, page='NextSong', sessionId=521, log_date='2018-10-02 20:03:01', ts=1538481781000),\n",
       " Row(auth='Logged In', itemInSession=39, page='NextSong', sessionId=521, log_date='2018-10-02 20:06:44', ts=1538482004000),\n",
       " Row(auth='Logged In', itemInSession=40, page='NextSong', sessionId=521, log_date='2018-10-02 20:10:35', ts=1538482235000),\n",
       " Row(auth='Logged In', itemInSession=41, page='NextSong', sessionId=521, log_date='2018-10-02 20:24:18', ts=1538483058000),\n",
       " Row(auth='Logged In', itemInSession=42, page='NextSong', sessionId=521, log_date='2018-10-02 20:27:41', ts=1538483261000),\n",
       " Row(auth='Logged In', itemInSession=43, page='NextSong', sessionId=521, log_date='2018-10-02 20:31:26', ts=1538483486000),\n",
       " Row(auth='Logged In', itemInSession=44, page='NextSong', sessionId=521, log_date='2018-10-02 20:35:45', ts=1538483745000),\n",
       " Row(auth='Logged In', itemInSession=45, page='NextSong', sessionId=521, log_date='2018-10-02 20:39:01', ts=1538483941000),\n",
       " Row(auth='Logged In', itemInSession=46, page='NextSong', sessionId=521, log_date='2018-10-02 20:42:41', ts=1538484161000),\n",
       " Row(auth='Logged In', itemInSession=47, page='NextSong', sessionId=521, log_date='2018-10-02 20:46:10', ts=1538484370000),\n",
       " Row(auth='Logged In', itemInSession=48, page='NextSong', sessionId=521, log_date='2018-10-02 20:48:26', ts=1538484506000),\n",
       " Row(auth='Logged In', itemInSession=49, page='NextSong', sessionId=521, log_date='2018-10-02 20:52:17', ts=1538484737000),\n",
       " Row(auth='Logged In', itemInSession=50, page='NextSong', sessionId=521, log_date='2018-10-02 20:55:51', ts=1538484951000),\n",
       " Row(auth='Logged In', itemInSession=51, page='NextSong', sessionId=521, log_date='2018-10-02 21:01:39', ts=1538485299000),\n",
       " Row(auth='Logged In', itemInSession=52, page='NextSong', sessionId=521, log_date='2018-10-02 21:04:43', ts=1538485483000),\n",
       " Row(auth='Logged In', itemInSession=53, page='NextSong', sessionId=521, log_date='2018-10-02 21:10:27', ts=1538485827000),\n",
       " Row(auth='Logged In', itemInSession=54, page='NextSong', sessionId=521, log_date='2018-10-02 21:14:05', ts=1538486045000),\n",
       " Row(auth='Logged In', itemInSession=55, page='NextSong', sessionId=521, log_date='2018-10-02 21:17:13', ts=1538486233000),\n",
       " Row(auth='Logged In', itemInSession=56, page='NextSong', sessionId=521, log_date='2018-10-02 21:22:06', ts=1538486526000),\n",
       " Row(auth='Logged In', itemInSession=57, page='NextSong', sessionId=521, log_date='2018-10-02 21:24:44', ts=1538486684000),\n",
       " Row(auth='Logged In', itemInSession=58, page='NextSong', sessionId=521, log_date='2018-10-02 21:28:27', ts=1538486907000),\n",
       " Row(auth='Logged In', itemInSession=59, page='NextSong', sessionId=521, log_date='2018-10-02 21:32:20', ts=1538487140000),\n",
       " Row(auth='Logged In', itemInSession=60, page='NextSong', sessionId=521, log_date='2018-10-02 21:39:44', ts=1538487584000),\n",
       " Row(auth='Logged In', itemInSession=61, page='NextSong', sessionId=521, log_date='2018-10-02 21:42:25', ts=1538487745000),\n",
       " Row(auth='Logged In', itemInSession=62, page='NextSong', sessionId=521, log_date='2018-10-02 21:46:18', ts=1538487978000),\n",
       " Row(auth='Logged In', itemInSession=63, page='NextSong', sessionId=521, log_date='2018-10-02 21:50:39', ts=1538488239000),\n",
       " Row(auth='Logged In', itemInSession=64, page='Thumbs Up', sessionId=521, log_date='2018-10-02 21:50:40', ts=1538488240000),\n",
       " Row(auth='Logged In', itemInSession=65, page='NextSong', sessionId=521, log_date='2018-10-02 21:53:48', ts=1538488428000),\n",
       " Row(auth='Logged In', itemInSession=66, page='NextSong', sessionId=521, log_date='2018-10-02 21:59:21', ts=1538488761000),\n",
       " Row(auth='Logged In', itemInSession=67, page='NextSong', sessionId=521, log_date='2018-10-02 22:02:32', ts=1538488952000),\n",
       " Row(auth='Logged In', itemInSession=68, page='Add to Playlist', sessionId=521, log_date='2018-10-02 22:02:39', ts=1538488959000),\n",
       " Row(auth='Logged In', itemInSession=69, page='NextSong', sessionId=521, log_date='2018-10-02 22:06:29', ts=1538489189000),\n",
       " Row(auth='Logged In', itemInSession=70, page='NextSong', sessionId=521, log_date='2018-10-02 22:10:09', ts=1538489409000),\n",
       " Row(auth='Logged In', itemInSession=71, page='NextSong', sessionId=521, log_date='2018-10-02 22:13:36', ts=1538489616000),\n",
       " Row(auth='Logged In', itemInSession=72, page='Add Friend', sessionId=521, log_date='2018-10-02 22:13:37', ts=1538489617000),\n",
       " Row(auth='Logged In', itemInSession=73, page='NextSong', sessionId=521, log_date='2018-10-02 22:16:12', ts=1538489772000),\n",
       " Row(auth='Logged In', itemInSession=74, page='NextSong', sessionId=521, log_date='2018-10-02 22:19:42', ts=1538489982000),\n",
       " Row(auth='Logged In', itemInSession=75, page='NextSong', sessionId=521, log_date='2018-10-02 22:25:01', ts=1538490301000),\n",
       " Row(auth='Logged In', itemInSession=76, page='NextSong', sessionId=521, log_date='2018-10-02 22:27:45', ts=1538490465000),\n",
       " Row(auth='Logged In', itemInSession=77, page='NextSong', sessionId=521, log_date='2018-10-02 22:32:08', ts=1538490728000),\n",
       " Row(auth='Logged In', itemInSession=78, page='NextSong', sessionId=521, log_date='2018-10-02 22:35:46', ts=1538490946000),\n",
       " Row(auth='Logged In', itemInSession=79, page='Thumbs Up', sessionId=521, log_date='2018-10-02 22:35:47', ts=1538490947000),\n",
       " Row(auth='Logged In', itemInSession=80, page='Add to Playlist', sessionId=521, log_date='2018-10-02 22:35:49', ts=1538490949000),\n",
       " Row(auth='Logged In', itemInSession=81, page='NextSong', sessionId=521, log_date='2018-10-02 22:40:05', ts=1538491205000),\n",
       " Row(auth='Logged In', itemInSession=82, page='NextSong', sessionId=521, log_date='2018-10-02 22:43:20', ts=1538491400000),\n",
       " Row(auth='Logged In', itemInSession=83, page='Thumbs Up', sessionId=521, log_date='2018-10-02 22:43:21', ts=1538491401000),\n",
       " Row(auth='Logged In', itemInSession=84, page='NextSong', sessionId=521, log_date='2018-10-02 22:47:22', ts=1538491642000),\n",
       " Row(auth='Logged In', itemInSession=85, page='NextSong', sessionId=521, log_date='2018-10-02 22:50:21', ts=1538491821000),\n",
       " Row(auth='Logged In', itemInSession=86, page='NextSong', sessionId=521, log_date='2018-10-02 22:54:54', ts=1538492094000),\n",
       " Row(auth='Logged In', itemInSession=87, page='NextSong', sessionId=521, log_date='2018-10-02 22:57:32', ts=1538492252000),\n",
       " Row(auth='Logged In', itemInSession=88, page='NextSong', sessionId=521, log_date='2018-10-02 23:00:09', ts=1538492409000),\n",
       " Row(auth='Logged In', itemInSession=89, page='NextSong', sessionId=521, log_date='2018-10-02 23:03:39', ts=1538492619000),\n",
       " Row(auth='Logged In', itemInSession=90, page='Add to Playlist', sessionId=521, log_date='2018-10-02 23:03:48', ts=1538492628000),\n",
       " Row(auth='Logged In', itemInSession=91, page='NextSong', sessionId=521, log_date='2018-10-02 23:09:06', ts=1538492946000),\n",
       " Row(auth='Logged In', itemInSession=92, page='NextSong', sessionId=521, log_date='2018-10-02 23:12:55', ts=1538493175000),\n",
       " Row(auth='Logged In', itemInSession=93, page='NextSong', sessionId=521, log_date='2018-10-02 23:15:57', ts=1538493357000),\n",
       " Row(auth='Logged In', itemInSession=94, page='NextSong', sessionId=521, log_date='2018-10-02 23:22:29', ts=1538493749000),\n",
       " Row(auth='Logged In', itemInSession=95, page='NextSong', sessionId=521, log_date='2018-10-02 23:26:26', ts=1538493986000),\n",
       " Row(auth='Logged In', itemInSession=96, page='NextSong', sessionId=521, log_date='2018-10-02 23:30:43', ts=1538494243000),\n",
       " Row(auth='Logged In', itemInSession=97, page='NextSong', sessionId=521, log_date='2018-10-02 23:37:09', ts=1538494629000),\n",
       " Row(auth='Logged In', itemInSession=98, page='NextSong', sessionId=521, log_date='2018-10-02 23:41:19', ts=1538494879000),\n",
       " Row(auth='Logged In', itemInSession=99, page='NextSong', sessionId=521, log_date='2018-10-02 23:45:02', ts=1538495102000),\n",
       " Row(auth='Logged In', itemInSession=100, page='NextSong', sessionId=521, log_date='2018-10-02 23:46:04', ts=1538495164000),\n",
       " Row(auth='Logged In', itemInSession=101, page='NextSong', sessionId=521, log_date='2018-10-02 23:48:47', ts=1538495327000),\n",
       " Row(auth='Logged In', itemInSession=102, page='NextSong', sessionId=521, log_date='2018-10-02 23:52:18', ts=1538495538000),\n",
       " Row(auth='Logged In', itemInSession=103, page='NextSong', sessionId=521, log_date='2018-10-02 23:55:02', ts=1538495702000),\n",
       " Row(auth='Logged In', itemInSession=104, page='NextSong', sessionId=521, log_date='2018-10-02 23:57:16', ts=1538495836000),\n",
       " Row(auth='Logged In', itemInSession=105, page='NextSong', sessionId=521, log_date='2018-10-03 00:01:13', ts=1538496073000),\n",
       " Row(auth='Logged In', itemInSession=106, page='NextSong', sessionId=521, log_date='2018-10-03 00:06:35', ts=1538496395000),\n",
       " Row(auth='Logged In', itemInSession=107, page='NextSong', sessionId=521, log_date='2018-10-03 00:09:51', ts=1538496591000),\n",
       " Row(auth='Logged In', itemInSession=108, page='Home', sessionId=521, log_date='2018-10-03 00:10:06', ts=1538496606000),\n",
       " Row(auth='Logged In', itemInSession=109, page='NextSong', sessionId=521, log_date='2018-10-03 00:12:10', ts=1538496730000),\n",
       " Row(auth='Logged In', itemInSession=110, page='NextSong', sessionId=521, log_date='2018-10-03 00:15:54', ts=1538496954000),\n",
       " Row(auth='Logged In', itemInSession=111, page='NextSong', sessionId=521, log_date='2018-10-03 00:19:31', ts=1538497171000),\n",
       " Row(auth='Logged In', itemInSession=112, page='NextSong', sessionId=521, log_date='2018-10-03 00:23:22', ts=1538497402000),\n",
       " Row(auth='Logged In', itemInSession=113, page='NextSong', sessionId=521, log_date='2018-10-03 00:24:08', ts=1538497448000),\n",
       " Row(auth='Logged In', itemInSession=114, page='NextSong', sessionId=521, log_date='2018-10-03 00:25:55', ts=1538497555000),\n",
       " Row(auth='Logged In', itemInSession=115, page='Downgrade', sessionId=521, log_date='2018-10-03 00:26:08', ts=1538497568000),\n",
       " Row(auth='Logged In', itemInSession=116, page='NextSong', sessionId=521, log_date='2018-10-03 00:30:27', ts=1538497827000),\n",
       " Row(auth='Logged In', itemInSession=117, page='NextSong', sessionId=521, log_date='2018-10-03 00:33:48', ts=1538498028000),\n",
       " Row(auth='Logged In', itemInSession=118, page='NextSong', sessionId=521, log_date='2018-10-03 00:37:46', ts=1538498266000),\n",
       " Row(auth='Logged In', itemInSession=119, page='NextSong', sessionId=521, log_date='2018-10-03 00:41:33', ts=1538498493000),\n",
       " Row(auth='Logged In', itemInSession=120, page='NextSong', sessionId=521, log_date='2018-10-03 00:43:40', ts=1538498620000),\n",
       " Row(auth='Logged In', itemInSession=121, page='NextSong', sessionId=521, log_date='2018-10-03 00:46:45', ts=1538498805000),\n",
       " Row(auth='Logged In', itemInSession=122, page='NextSong', sessionId=521, log_date='2018-10-03 00:51:12', ts=1538499072000),\n",
       " Row(auth='Logged In', itemInSession=123, page='NextSong', sessionId=521, log_date='2018-10-03 00:54:10', ts=1538499250000),\n",
       " Row(auth='Logged In', itemInSession=124, page='NextSong', sessionId=521, log_date='2018-10-03 00:58:02', ts=1538499482000),\n",
       " Row(auth='Logged In', itemInSession=125, page='NextSong', sessionId=521, log_date='2018-10-03 01:00:42', ts=1538499642000),\n",
       " Row(auth='Logged In', itemInSession=126, page='Downgrade', sessionId=521, log_date='2018-10-03 01:01:47', ts=1538499707000),\n",
       " Row(auth='Logged In', itemInSession=127, page='Downgrade', sessionId=521, log_date='2018-10-03 01:02:20', ts=1538499740000),\n",
       " Row(auth='Logged In', itemInSession=128, page='Logout', sessionId=521, log_date='2018-10-03 01:02:21', ts=1538499741000),\n",
       " Row(auth='Logged In', itemInSession=131, page='Home', sessionId=521, log_date='2018-10-03 01:03:31', ts=1538499811000),\n",
       " Row(auth='Logged In', itemInSession=132, page='NextSong', sessionId=521, log_date='2018-10-03 01:07:53', ts=1538500073000),\n",
       " Row(auth='Logged In', itemInSession=133, page='NextSong', sessionId=521, log_date='2018-10-03 01:11:29', ts=1538500289000),\n",
       " Row(auth='Logged In', itemInSession=134, page='NextSong', sessionId=521, log_date='2018-10-03 01:15:24', ts=1538500524000),\n",
       " Row(auth='Logged In', itemInSession=135, page='NextSong', sessionId=521, log_date='2018-10-03 01:19:21', ts=1538500761000),\n",
       " Row(auth='Logged In', itemInSession=136, page='NextSong', sessionId=521, log_date='2018-10-03 01:22:24', ts=1538500944000),\n",
       " Row(auth='Logged In', itemInSession=137, page='NextSong', sessionId=521, log_date='2018-10-03 01:24:37', ts=1538501077000),\n",
       " Row(auth='Logged In', itemInSession=138, page='NextSong', sessionId=521, log_date='2018-10-03 01:27:41', ts=1538501261000),\n",
       " Row(auth='Logged In', itemInSession=139, page='NextSong', sessionId=521, log_date='2018-10-03 01:32:30', ts=1538501550000),\n",
       " Row(auth='Logged In', itemInSession=140, page='NextSong', sessionId=521, log_date='2018-10-03 01:34:44', ts=1538501684000),\n",
       " Row(auth='Logged In', itemInSession=141, page='NextSong', sessionId=521, log_date='2018-10-03 01:39:30', ts=1538501970000),\n",
       " Row(auth='Logged In', itemInSession=142, page='NextSong', sessionId=521, log_date='2018-10-03 01:43:42', ts=1538502222000),\n",
       " Row(auth='Logged In', itemInSession=143, page='Thumbs Up', sessionId=521, log_date='2018-10-03 01:43:43', ts=1538502223000),\n",
       " Row(auth='Logged In', itemInSession=144, page='NextSong', sessionId=521, log_date='2018-10-03 01:47:47', ts=1538502467000),\n",
       " Row(auth='Logged In', itemInSession=145, page='NextSong', sessionId=521, log_date='2018-10-03 01:54:15', ts=1538502855000),\n",
       " Row(auth='Logged In', itemInSession=146, page='NextSong', sessionId=521, log_date='2018-10-03 02:00:31', ts=1538503231000),\n",
       " Row(auth='Logged In', itemInSession=147, page='NextSong', sessionId=521, log_date='2018-10-03 02:04:10', ts=1538503450000),\n",
       " Row(auth='Logged In', itemInSession=148, page='NextSong', sessionId=521, log_date='2018-10-03 02:08:02', ts=1538503682000),\n",
       " Row(auth='Logged In', itemInSession=149, page='NextSong', sessionId=521, log_date='2018-10-03 02:12:46', ts=1538503966000),\n",
       " Row(auth='Logged In', itemInSession=150, page='NextSong', sessionId=521, log_date='2018-10-03 02:15:27', ts=1538504127000),\n",
       " Row(auth='Logged In', itemInSession=151, page='NextSong', sessionId=521, log_date='2018-10-03 02:23:22', ts=1538504602000),\n",
       " Row(auth='Logged In', itemInSession=152, page='NextSong', sessionId=521, log_date='2018-10-03 02:25:59', ts=1538504759000),\n",
       " Row(auth='Logged In', itemInSession=153, page='NextSong', sessionId=521, log_date='2018-10-03 02:28:58', ts=1538504938000),\n",
       " Row(auth='Logged In', itemInSession=154, page='NextSong', sessionId=521, log_date='2018-10-03 02:31:40', ts=1538505100000),\n",
       " Row(auth='Logged In', itemInSession=155, page='Thumbs Up', sessionId=521, log_date='2018-10-03 02:31:41', ts=1538505101000),\n",
       " Row(auth='Logged In', itemInSession=156, page='Add to Playlist', sessionId=521, log_date='2018-10-03 02:31:55', ts=1538505115000),\n",
       " Row(auth='Logged In', itemInSession=157, page='NextSong', sessionId=521, log_date='2018-10-03 02:34:41', ts=1538505281000),\n",
       " Row(auth='Logged In', itemInSession=158, page='NextSong', sessionId=521, log_date='2018-10-03 02:37:51', ts=1538505471000),\n",
       " Row(auth='Logged In', itemInSession=159, page='NextSong', sessionId=521, log_date='2018-10-03 02:41:17', ts=1538505677000),\n",
       " Row(auth='Logged In', itemInSession=160, page='NextSong', sessionId=521, log_date='2018-10-03 02:44:57', ts=1538505897000),\n",
       " Row(auth='Logged In', itemInSession=161, page='NextSong', sessionId=521, log_date='2018-10-03 02:51:43', ts=1538506303000),\n",
       " Row(auth='Logged In', itemInSession=162, page='NextSong', sessionId=521, log_date='2018-10-03 02:56:25', ts=1538506585000),\n",
       " Row(auth='Logged In', itemInSession=163, page='Downgrade', sessionId=521, log_date='2018-10-03 02:56:26', ts=1538506586000),\n",
       " Row(auth='Logged In', itemInSession=164, page='NextSong', sessionId=521, log_date='2018-10-03 03:01:37', ts=1538506897000),\n",
       " Row(auth='Logged In', itemInSession=165, page='NextSong', sessionId=521, log_date='2018-10-03 03:04:40', ts=1538507080000),\n",
       " Row(auth='Logged In', itemInSession=166, page='NextSong', sessionId=521, log_date='2018-10-03 03:08:39', ts=1538507319000),\n",
       " Row(auth='Logged In', itemInSession=167, page='NextSong', sessionId=521, log_date='2018-10-03 03:12:19', ts=1538507539000),\n",
       " Row(auth='Logged In', itemInSession=168, page='NextSong', sessionId=521, log_date='2018-10-03 03:15:27', ts=1538507727000),\n",
       " Row(auth='Logged In', itemInSession=169, page='Add Friend', sessionId=521, log_date='2018-10-03 03:15:28', ts=1538507728000),\n",
       " Row(auth='Logged In', itemInSession=170, page='NextSong', sessionId=521, log_date='2018-10-03 03:19:32', ts=1538507972000),\n",
       " Row(auth='Logged In', itemInSession=171, page='NextSong', sessionId=521, log_date='2018-10-03 03:24:45', ts=1538508285000),\n",
       " Row(auth='Logged In', itemInSession=172, page='NextSong', sessionId=521, log_date='2018-10-03 03:27:59', ts=1538508479000),\n",
       " Row(auth='Logged In', itemInSession=173, page='NextSong', sessionId=521, log_date='2018-10-03 03:31:56', ts=1538508716000),\n",
       " Row(auth='Logged In', itemInSession=174, page='NextSong', sessionId=521, log_date='2018-10-03 03:35:39', ts=1538508939000),\n",
       " Row(auth='Logged In', itemInSession=175, page='NextSong', sessionId=521, log_date='2018-10-03 03:40:29', ts=1538509229000),\n",
       " Row(auth='Logged In', itemInSession=176, page='NextSong', sessionId=521, log_date='2018-10-03 03:50:28', ts=1538509828000),\n",
       " Row(auth='Logged In', itemInSession=177, page='NextSong', sessionId=521, log_date='2018-10-03 03:54:35', ts=1538510075000),\n",
       " Row(auth='Logged In', itemInSession=178, page='NextSong', sessionId=521, log_date='2018-10-03 03:57:35', ts=1538510255000),\n",
       " Row(auth='Logged In', itemInSession=179, page='NextSong', sessionId=521, log_date='2018-10-03 04:02:19', ts=1538510539000),\n",
       " Row(auth='Logged In', itemInSession=180, page='NextSong', sessionId=521, log_date='2018-10-03 04:07:21', ts=1538510841000),\n",
       " Row(auth='Logged In', itemInSession=181, page='NextSong', sessionId=521, log_date='2018-10-03 04:11:25', ts=1538511085000),\n",
       " Row(auth='Logged In', itemInSession=182, page='NextSong', sessionId=521, log_date='2018-10-03 04:15:34', ts=1538511334000),\n",
       " Row(auth='Logged In', itemInSession=183, page='NextSong', sessionId=521, log_date='2018-10-03 04:17:38', ts=1538511458000),\n",
       " Row(auth='Logged In', itemInSession=184, page='Thumbs Up', sessionId=521, log_date='2018-10-03 04:17:39', ts=1538511459000),\n",
       " Row(auth='Logged In', itemInSession=185, page='NextSong', sessionId=521, log_date='2018-10-03 04:19:52', ts=1538511592000),\n",
       " Row(auth='Logged In', itemInSession=186, page='NextSong', sessionId=521, log_date='2018-10-03 04:23:17', ts=1538511797000),\n",
       " Row(auth='Logged In', itemInSession=187, page='NextSong', sessionId=521, log_date='2018-10-03 04:28:10', ts=1538512090000),\n",
       " Row(auth='Logged In', itemInSession=188, page='NextSong', sessionId=521, log_date='2018-10-03 04:34:26', ts=1538512466000),\n",
       " Row(auth='Logged In', itemInSession=189, page='NextSong', sessionId=521, log_date='2018-10-03 04:37:57', ts=1538512677000),\n",
       " Row(auth='Logged In', itemInSession=190, page='Thumbs Up', sessionId=521, log_date='2018-10-03 04:37:58', ts=1538512678000),\n",
       " Row(auth='Logged In', itemInSession=191, page='NextSong', sessionId=521, log_date='2018-10-03 04:41:45', ts=1538512905000),\n",
       " Row(auth='Logged In', itemInSession=192, page='NextSong', sessionId=521, log_date='2018-10-03 04:46:35', ts=1538513195000),\n",
       " Row(auth='Logged In', itemInSession=193, page='NextSong', sessionId=521, log_date='2018-10-03 04:50:07', ts=1538513407000),\n",
       " Row(auth='Logged In', itemInSession=194, page='NextSong', sessionId=521, log_date='2018-10-03 04:52:52', ts=1538513572000),\n",
       " Row(auth='Logged In', itemInSession=195, page='NextSong', sessionId=521, log_date='2018-10-03 04:58:56', ts=1538513936000),\n",
       " Row(auth='Logged In', itemInSession=196, page='NextSong', sessionId=521, log_date='2018-10-03 05:05:31', ts=1538514331000),\n",
       " Row(auth='Logged In', itemInSession=197, page='NextSong', sessionId=521, log_date='2018-10-03 05:10:16', ts=1538514616000),\n",
       " Row(auth='Logged In', itemInSession=198, page='Thumbs Up', sessionId=521, log_date='2018-10-03 05:10:17', ts=1538514617000),\n",
       " Row(auth='Logged In', itemInSession=199, page='NextSong', sessionId=521, log_date='2018-10-03 05:13:16', ts=1538514796000),\n",
       " Row(auth='Logged In', itemInSession=200, page='NextSong', sessionId=521, log_date='2018-10-03 05:17:17', ts=1538515037000),\n",
       " Row(auth='Logged In', itemInSession=201, page='NextSong', sessionId=521, log_date='2018-10-03 05:20:10', ts=1538515210000),\n",
       " Row(auth='Logged In', itemInSession=202, page='Thumbs Up', sessionId=521, log_date='2018-10-03 05:20:11', ts=1538515211000),\n",
       " Row(auth='Logged In', itemInSession=203, page='NextSong', sessionId=521, log_date='2018-10-03 05:24:58', ts=1538515498000),\n",
       " Row(auth='Logged In', itemInSession=204, page='Thumbs Up', sessionId=521, log_date='2018-10-03 05:24:59', ts=1538515499000),\n",
       " Row(auth='Logged In', itemInSession=205, page='NextSong', sessionId=521, log_date='2018-10-03 05:29:03', ts=1538515743000),\n",
       " Row(auth='Logged In', itemInSession=206, page='NextSong', sessionId=521, log_date='2018-10-03 05:32:54', ts=1538515974000),\n",
       " Row(auth='Logged In', itemInSession=207, page='NextSong', sessionId=521, log_date='2018-10-03 05:37:27', ts=1538516247000),\n",
       " Row(auth='Logged In', itemInSession=208, page='NextSong', sessionId=521, log_date='2018-10-03 05:40:51', ts=1538516451000),\n",
       " Row(auth='Logged In', itemInSession=209, page='NextSong', sessionId=521, log_date='2018-10-03 05:47:10', ts=1538516830000),\n",
       " Row(auth='Logged In', itemInSession=210, page='NextSong', sessionId=521, log_date='2018-10-03 05:50:25', ts=1538517025000),\n",
       " Row(auth='Logged In', itemInSession=211, page='NextSong', sessionId=521, log_date='2018-10-03 05:55:10', ts=1538517310000),\n",
       " Row(auth='Logged In', itemInSession=212, page='NextSong', sessionId=521, log_date='2018-10-03 06:02:24', ts=1538517744000),\n",
       " Row(auth='Logged In', itemInSession=213, page='NextSong', sessionId=521, log_date='2018-10-03 06:05:07', ts=1538517907000),\n",
       " Row(auth='Logged In', itemInSession=214, page='Thumbs Up', sessionId=521, log_date='2018-10-03 06:05:08', ts=1538517908000),\n",
       " Row(auth='Logged In', itemInSession=215, page='NextSong', sessionId=521, log_date='2018-10-03 06:08:24', ts=1538518104000),\n",
       " Row(auth='Logged In', itemInSession=216, page='NextSong', sessionId=521, log_date='2018-10-03 06:11:52', ts=1538518312000),\n",
       " Row(auth='Logged In', itemInSession=217, page='NextSong', sessionId=521, log_date='2018-10-03 06:15:31', ts=1538518531000),\n",
       " Row(auth='Logged In', itemInSession=218, page='NextSong', sessionId=521, log_date='2018-10-03 06:18:41', ts=1538518721000),\n",
       " Row(auth='Logged In', itemInSession=219, page='Thumbs Up', sessionId=521, log_date='2018-10-03 06:18:42', ts=1538518722000),\n",
       " Row(auth='Logged In', itemInSession=220, page='NextSong', sessionId=521, log_date='2018-10-03 06:22:36', ts=1538518956000),\n",
       " Row(auth='Logged In', itemInSession=221, page='NextSong', sessionId=521, log_date='2018-10-03 06:25:57', ts=1538519157000),\n",
       " Row(auth='Logged In', itemInSession=222, page='NextSong', sessionId=521, log_date='2018-10-03 06:29:28', ts=1538519368000),\n",
       " Row(auth='Logged In', itemInSession=223, page='Thumbs Up', sessionId=521, log_date='2018-10-03 06:29:29', ts=1538519369000),\n",
       " Row(auth='Logged In', itemInSession=224, page='NextSong', sessionId=521, log_date='2018-10-03 06:33:57', ts=1538519637000),\n",
       " Row(auth='Logged In', itemInSession=225, page='NextSong', sessionId=521, log_date='2018-10-03 06:40:21', ts=1538520021000),\n",
       " Row(auth='Logged In', itemInSession=226, page='NextSong', sessionId=521, log_date='2018-10-03 06:44:21', ts=1538520261000),\n",
       " Row(auth='Logged In', itemInSession=227, page='NextSong', sessionId=521, log_date='2018-10-03 06:55:06', ts=1538520906000),\n",
       " Row(auth='Logged In', itemInSession=228, page='NextSong', sessionId=521, log_date='2018-10-03 06:59:21', ts=1538521161000),\n",
       " Row(auth='Logged In', itemInSession=229, page='NextSong', sessionId=521, log_date='2018-10-03 07:04:05', ts=1538521445000),\n",
       " Row(auth='Logged In', itemInSession=230, page='Add Friend', sessionId=521, log_date='2018-10-03 07:04:06', ts=1538521446000),\n",
       " Row(auth='Logged In', itemInSession=231, page='Add Friend', sessionId=521, log_date='2018-10-03 07:04:07', ts=1538521447000),\n",
       " Row(auth='Logged In', itemInSession=232, page='NextSong', sessionId=521, log_date='2018-10-03 07:08:50', ts=1538521730000),\n",
       " Row(auth='Logged In', itemInSession=233, page='NextSong', sessionId=521, log_date='2018-10-03 07:13:52', ts=1538522032000),\n",
       " Row(auth='Logged In', itemInSession=234, page='NextSong', sessionId=521, log_date='2018-10-03 07:16:38', ts=1538522198000),\n",
       " Row(auth='Logged In', itemInSession=235, page='NextSong', sessionId=521, log_date='2018-10-03 07:20:53', ts=1538522453000),\n",
       " Row(auth='Logged In', itemInSession=236, page='Downgrade', sessionId=521, log_date='2018-10-03 07:21:07', ts=1538522467000),\n",
       " Row(auth='Logged In', itemInSession=237, page='NextSong', sessionId=521, log_date='2018-10-03 07:24:52', ts=1538522692000),\n",
       " Row(auth='Logged In', itemInSession=238, page='NextSong', sessionId=521, log_date='2018-10-03 07:28:10', ts=1538522890000),\n",
       " Row(auth='Logged In', itemInSession=239, page='NextSong', sessionId=521, log_date='2018-10-03 07:31:30', ts=1538523090000),\n",
       " Row(auth='Logged In', itemInSession=240, page='NextSong', sessionId=521, log_date='2018-10-03 07:35:09', ts=1538523309000),\n",
       " Row(auth='Logged In', itemInSession=241, page='NextSong', sessionId=521, log_date='2018-10-03 07:41:44', ts=1538523704000),\n",
       " Row(auth='Logged In', itemInSession=242, page='NextSong', sessionId=521, log_date='2018-10-03 07:43:22', ts=1538523802000),\n",
       " Row(auth='Logged In', itemInSession=243, page='NextSong', sessionId=521, log_date='2018-10-03 07:47:44', ts=1538524064000),\n",
       " Row(auth='Logged In', itemInSession=244, page='NextSong', sessionId=521, log_date='2018-10-03 07:53:22', ts=1538524402000),\n",
       " Row(auth='Logged In', itemInSession=245, page='NextSong', sessionId=521, log_date='2018-10-03 07:56:02', ts=1538524562000),\n",
       " Row(auth='Logged In', itemInSession=246, page='Thumbs Up', sessionId=521, log_date='2018-10-03 07:56:03', ts=1538524563000),\n",
       " Row(auth='Logged In', itemInSession=247, page='NextSong', sessionId=521, log_date='2018-10-03 07:59:35', ts=1538524775000),\n",
       " Row(auth='Logged In', itemInSession=248, page='Add Friend', sessionId=521, log_date='2018-10-03 07:59:36', ts=1538524776000),\n",
       " Row(auth='Logged In', itemInSession=249, page='NextSong', sessionId=521, log_date='2018-10-03 08:03:42', ts=1538525022000),\n",
       " Row(auth='Logged In', itemInSession=250, page='NextSong', sessionId=521, log_date='2018-10-03 08:08:49', ts=1538525329000),\n",
       " Row(auth='Logged In', itemInSession=251, page='NextSong', sessionId=521, log_date='2018-10-03 08:10:55', ts=1538525455000),\n",
       " Row(auth='Logged In', itemInSession=252, page='NextSong', sessionId=521, log_date='2018-10-03 08:14:54', ts=1538525694000),\n",
       " Row(auth='Logged In', itemInSession=253, page='NextSong', sessionId=521, log_date='2018-10-03 08:18:44', ts=1538525924000),\n",
       " Row(auth='Logged In', itemInSession=254, page='NextSong', sessionId=521, log_date='2018-10-03 08:20:23', ts=1538526023000),\n",
       " Row(auth='Logged In', itemInSession=255, page='Thumbs Up', sessionId=521, log_date='2018-10-03 08:20:24', ts=1538526024000),\n",
       " Row(auth='Logged In', itemInSession=256, page='NextSong', sessionId=521, log_date='2018-10-03 08:24:51', ts=1538526291000),\n",
       " Row(auth='Logged In', itemInSession=257, page='Settings', sessionId=521, log_date='2018-10-03 08:25:04', ts=1538526304000),\n",
       " Row(auth='Logged In', itemInSession=258, page='NextSong', sessionId=521, log_date='2018-10-03 08:29:00', ts=1538526540000),\n",
       " Row(auth='Logged In', itemInSession=259, page='NextSong', sessionId=521, log_date='2018-10-03 08:34:34', ts=1538526874000),\n",
       " Row(auth='Logged In', itemInSession=260, page='NextSong', sessionId=521, log_date='2018-10-03 08:39:10', ts=1538527150000),\n",
       " Row(auth='Logged In', itemInSession=261, page='NextSong', sessionId=521, log_date='2018-10-03 08:43:23', ts=1538527403000),\n",
       " Row(auth='Logged In', itemInSession=262, page='NextSong', sessionId=521, log_date='2018-10-03 08:47:03', ts=1538527623000),\n",
       " Row(auth='Logged In', itemInSession=263, page='NextSong', sessionId=521, log_date='2018-10-03 08:50:18', ts=1538527818000),\n",
       " Row(auth='Logged In', itemInSession=264, page='NextSong', sessionId=521, log_date='2018-10-03 08:53:59', ts=1538528039000),\n",
       " Row(auth='Logged In', itemInSession=265, page='NextSong', sessionId=521, log_date='2018-10-03 08:57:53', ts=1538528273000),\n",
       " Row(auth='Logged In', itemInSession=266, page='NextSong', sessionId=521, log_date='2018-10-03 09:05:42', ts=1538528742000),\n",
       " Row(auth='Logged In', itemInSession=267, page='Thumbs Up', sessionId=521, log_date='2018-10-03 09:05:43', ts=1538528743000),\n",
       " Row(auth='Logged In', itemInSession=268, page='NextSong', sessionId=521, log_date='2018-10-03 09:09:30', ts=1538528970000),\n",
       " Row(auth='Logged In', itemInSession=269, page='NextSong', sessionId=521, log_date='2018-10-03 09:13:56', ts=1538529236000),\n",
       " Row(auth='Logged In', itemInSession=270, page='NextSong', sessionId=521, log_date='2018-10-03 09:19:45', ts=1538529585000),\n",
       " Row(auth='Logged In', itemInSession=271, page='NextSong', sessionId=521, log_date='2018-10-03 09:22:37', ts=1538529757000),\n",
       " Row(auth='Logged In', itemInSession=272, page='Thumbs Up', sessionId=521, log_date='2018-10-03 09:22:38', ts=1538529758000),\n",
       " Row(auth='Logged In', itemInSession=273, page='NextSong', sessionId=521, log_date='2018-10-03 09:26:19', ts=1538529979000),\n",
       " Row(auth='Logged In', itemInSession=274, page='NextSong', sessionId=521, log_date='2018-10-03 09:30:13', ts=1538530213000),\n",
       " Row(auth='Logged In', itemInSession=275, page='NextSong', sessionId=521, log_date='2018-10-03 09:36:27', ts=1538530587000),\n",
       " Row(auth='Logged In', itemInSession=276, page='NextSong', sessionId=521, log_date='2018-10-03 09:41:07', ts=1538530867000),\n",
       " Row(auth='Logged In', itemInSession=277, page='Logout', sessionId=521, log_date='2018-10-03 09:41:08', ts=1538530868000),\n",
       " Row(auth='Logged In', itemInSession=280, page='Home', sessionId=521, log_date='2018-10-03 09:41:35', ts=1538530895000),\n",
       " Row(auth='Logged In', itemInSession=0, page='Home', sessionId=706, log_date='2018-10-04 00:13:50', ts=1538583230000),\n",
       " Row(auth='Logged In', itemInSession=1, page='NextSong', sessionId=706, log_date='2018-10-04 00:13:50', ts=1538583230000),\n",
       " Row(auth='Logged In', itemInSession=2, page='NextSong', sessionId=706, log_date='2018-10-04 00:16:54', ts=1538583414000),\n",
       " Row(auth='Logged In', itemInSession=3, page='NextSong', sessionId=706, log_date='2018-10-04 00:20:01', ts=1538583601000),\n",
       " Row(auth='Logged In', itemInSession=4, page='NextSong', sessionId=706, log_date='2018-10-04 00:24:15', ts=1538583855000),\n",
       " Row(auth='Logged In', itemInSession=5, page='NextSong', sessionId=706, log_date='2018-10-04 00:30:00', ts=1538584200000),\n",
       " Row(auth='Logged In', itemInSession=6, page='Downgrade', sessionId=706, log_date='2018-10-04 00:30:22', ts=1538584222000),\n",
       " Row(auth='Logged In', itemInSession=7, page='Logout', sessionId=706, log_date='2018-10-04 00:30:23', ts=1538584223000),\n",
       " Row(auth='Logged In', itemInSession=10, page='Home', sessionId=706, log_date='2018-10-04 00:30:59', ts=1538584259000),\n",
       " Row(auth='Logged In', itemInSession=11, page='NextSong', sessionId=706, log_date='2018-10-04 00:37:19', ts=1538584639000),\n",
       " Row(auth='Logged In', itemInSession=12, page='NextSong', sessionId=706, log_date='2018-10-04 00:41:53', ts=1538584913000),\n",
       " Row(auth='Logged In', itemInSession=13, page='NextSong', sessionId=706, log_date='2018-10-04 00:55:47', ts=1538585747000),\n",
       " Row(auth='Logged In', itemInSession=14, page='NextSong', sessionId=706, log_date='2018-10-04 00:59:02', ts=1538585942000),\n",
       " Row(auth='Logged In', itemInSession=15, page='NextSong', sessionId=706, log_date='2018-10-04 01:02:07', ts=1538586127000),\n",
       " Row(auth='Logged In', itemInSession=16, page='Thumbs Up', sessionId=706, log_date='2018-10-04 01:02:08', ts=1538586128000),\n",
       " Row(auth='Logged In', itemInSession=17, page='NextSong', sessionId=706, log_date='2018-10-04 01:04:55', ts=1538586295000),\n",
       " Row(auth='Logged In', itemInSession=18, page='Add to Playlist', sessionId=706, log_date='2018-10-04 01:04:56', ts=1538586296000),\n",
       " Row(auth='Logged In', itemInSession=19, page='NextSong', sessionId=706, log_date='2018-10-04 01:08:28', ts=1538586508000),\n",
       " Row(auth='Logged In', itemInSession=20, page='Home', sessionId=706, log_date='2018-10-04 01:08:36', ts=1538586516000),\n",
       " Row(auth='Logged In', itemInSession=21, page='NextSong', sessionId=706, log_date='2018-10-04 01:14:10', ts=1538586850000),\n",
       " Row(auth='Logged In', itemInSession=22, page='NextSong', sessionId=706, log_date='2018-10-04 01:19:07', ts=1538587147000),\n",
       " Row(auth='Logged In', itemInSession=23, page='Home', sessionId=706, log_date='2018-10-04 01:19:17', ts=1538587157000),\n",
       " Row(auth='Logged In', itemInSession=24, page='NextSong', sessionId=706, log_date='2018-10-04 01:23:09', ts=1538587389000),\n",
       " Row(auth='Logged In', itemInSession=25, page='NextSong', sessionId=706, log_date='2018-10-04 01:27:13', ts=1538587633000),\n",
       " Row(auth='Logged In', itemInSession=26, page='NextSong', sessionId=706, log_date='2018-10-04 01:32:11', ts=1538587931000),\n",
       " Row(auth='Logged In', itemInSession=27, page='NextSong', sessionId=706, log_date='2018-10-04 01:36:53', ts=1538588213000),\n",
       " Row(auth='Logged In', itemInSession=28, page='NextSong', sessionId=706, log_date='2018-10-04 01:41:26', ts=1538588486000),\n",
       " Row(auth='Logged In', itemInSession=29, page='Thumbs Up', sessionId=706, log_date='2018-10-04 01:41:27', ts=1538588487000),\n",
       " Row(auth='Logged In', itemInSession=30, page='NextSong', sessionId=706, log_date='2018-10-04 01:45:26', ts=1538588726000),\n",
       " Row(auth='Logged In', itemInSession=31, page='NextSong', sessionId=706, log_date='2018-10-04 01:48:04', ts=1538588884000),\n",
       " Row(auth='Logged In', itemInSession=32, page='NextSong', sessionId=706, log_date='2018-10-04 01:52:14', ts=1538589134000),\n",
       " Row(auth='Logged In', itemInSession=33, page='NextSong', sessionId=706, log_date='2018-10-04 01:55:52', ts=1538589352000),\n",
       " Row(auth='Logged In', itemInSession=34, page='NextSong', sessionId=706, log_date='2018-10-04 01:59:07', ts=1538589547000),\n",
       " Row(auth='Logged In', itemInSession=35, page='NextSong', sessionId=706, log_date='2018-10-04 02:04:06', ts=1538589846000),\n",
       " Row(auth='Logged In', itemInSession=36, page='NextSong', sessionId=706, log_date='2018-10-04 02:07:01', ts=1538590021000),\n",
       " Row(auth='Logged In', itemInSession=37, page='NextSong', sessionId=706, log_date='2018-10-04 02:11:20', ts=1538590280000),\n",
       " Row(auth='Logged In', itemInSession=38, page='NextSong', sessionId=706, log_date='2018-10-04 02:17:01', ts=1538590621000),\n",
       " Row(auth='Logged In', itemInSession=39, page='NextSong', sessionId=706, log_date='2018-10-04 02:22:07', ts=1538590927000),\n",
       " Row(auth='Logged In', itemInSession=40, page='NextSong', sessionId=706, log_date='2018-10-04 02:24:33', ts=1538591073000),\n",
       " Row(auth='Logged In', itemInSession=41, page='Help', sessionId=706, log_date='2018-10-04 02:24:38', ts=1538591078000),\n",
       " Row(auth='Logged In', itemInSession=42, page='NextSong', sessionId=706, log_date='2018-10-04 02:31:19', ts=1538591479000),\n",
       " Row(auth='Logged In', itemInSession=43, page='NextSong', sessionId=706, log_date='2018-10-04 02:34:42', ts=1538591682000),\n",
       " Row(auth='Logged In', itemInSession=44, page='NextSong', sessionId=706, log_date='2018-10-04 02:37:48', ts=1538591868000),\n",
       " Row(auth='Logged In', itemInSession=45, page='NextSong', sessionId=706, log_date='2018-10-04 02:40:02', ts=1538592002000),\n",
       " Row(auth='Logged In', itemInSession=46, page='NextSong', sessionId=706, log_date='2018-10-04 02:42:56', ts=1538592176000),\n",
       " Row(auth='Logged In', itemInSession=47, page='NextSong', sessionId=706, log_date='2018-10-04 02:45:45', ts=1538592345000),\n",
       " Row(auth='Logged In', itemInSession=48, page='NextSong', sessionId=706, log_date='2018-10-04 02:49:18', ts=1538592558000),\n",
       " Row(auth='Logged In', itemInSession=49, page='NextSong', sessionId=706, log_date='2018-10-04 02:53:27', ts=1538592807000),\n",
       " Row(auth='Logged In', itemInSession=50, page='NextSong', sessionId=706, log_date='2018-10-04 02:57:09', ts=1538593029000),\n",
       " Row(auth='Logged In', itemInSession=51, page='NextSong', sessionId=706, log_date='2018-10-04 03:00:39', ts=1538593239000),\n",
       " Row(auth='Logged In', itemInSession=52, page='NextSong', sessionId=706, log_date='2018-10-04 03:05:08', ts=1538593508000),\n",
       " Row(auth='Logged In', itemInSession=53, page='NextSong', sessionId=706, log_date='2018-10-04 03:09:52', ts=1538593792000),\n",
       " Row(auth='Logged In', itemInSession=54, page='NextSong', sessionId=706, log_date='2018-10-04 03:13:05', ts=1538593985000),\n",
       " Row(auth='Logged In', itemInSession=55, page='Add to Playlist', sessionId=706, log_date='2018-10-04 03:13:08', ts=1538593988000),\n",
       " Row(auth='Logged In', itemInSession=56, page='NextSong', sessionId=706, log_date='2018-10-04 03:16:37', ts=1538594197000),\n",
       " Row(auth='Logged In', itemInSession=57, page='NextSong', sessionId=706, log_date='2018-10-04 03:20:15', ts=1538594415000),\n",
       " Row(auth='Logged In', itemInSession=58, page='Thumbs Down', sessionId=706, log_date='2018-10-04 03:20:16', ts=1538594416000),\n",
       " Row(auth='Logged In', itemInSession=59, page='NextSong', sessionId=706, log_date='2018-10-04 03:24:14', ts=1538594654000),\n",
       " Row(auth='Logged In', itemInSession=60, page='NextSong', sessionId=706, log_date='2018-10-04 03:27:29', ts=1538594849000),\n",
       " Row(auth='Logged In', itemInSession=61, page='Add to Playlist', sessionId=706, log_date='2018-10-04 03:27:57', ts=1538594877000),\n",
       " Row(auth='Logged In', itemInSession=62, page='NextSong', sessionId=706, log_date='2018-10-04 03:29:37', ts=1538594977000),\n",
       " Row(auth='Logged In', itemInSession=63, page='NextSong', sessionId=706, log_date='2018-10-04 03:32:34', ts=1538595154000),\n",
       " Row(auth='Logged In', itemInSession=64, page='NextSong', sessionId=706, log_date='2018-10-04 03:36:03', ts=1538595363000),\n",
       " Row(auth='Logged In', itemInSession=65, page='NextSong', sessionId=706, log_date='2018-10-04 03:39:34', ts=1538595574000),\n",
       " Row(auth='Logged In', itemInSession=66, page='NextSong', sessionId=706, log_date='2018-10-04 03:41:55', ts=1538595715000),\n",
       " Row(auth='Logged In', itemInSession=67, page='NextSong', sessionId=706, log_date='2018-10-04 03:45:48', ts=1538595948000),\n",
       " Row(auth='Logged In', itemInSession=68, page='NextSong', sessionId=706, log_date='2018-10-04 03:49:49', ts=1538596189000),\n",
       " Row(auth='Logged In', itemInSession=69, page='NextSong', sessionId=706, log_date='2018-10-04 03:53:08', ts=1538596388000),\n",
       " Row(auth='Logged In', itemInSession=70, page='NextSong', sessionId=706, log_date='2018-10-04 03:57:01', ts=1538596621000),\n",
       " Row(auth='Logged In', itemInSession=71, page='NextSong', sessionId=706, log_date='2018-10-04 04:00:58', ts=1538596858000),\n",
       " Row(auth='Logged In', itemInSession=72, page='NextSong', sessionId=706, log_date='2018-10-04 04:03:47', ts=1538597027000),\n",
       " Row(auth='Logged In', itemInSession=73, page='Thumbs Up', sessionId=706, log_date='2018-10-04 04:03:48', ts=1538597028000),\n",
       " Row(auth='Logged In', itemInSession=74, page='NextSong', sessionId=706, log_date='2018-10-04 04:07:11', ts=1538597231000),\n",
       " Row(auth='Logged In', itemInSession=75, page='NextSong', sessionId=706, log_date='2018-10-04 04:10:37', ts=1538597437000),\n",
       " Row(auth='Logged In', itemInSession=76, page='NextSong', sessionId=706, log_date='2018-10-04 04:15:21', ts=1538597721000),\n",
       " Row(auth='Logged In', itemInSession=77, page='NextSong', sessionId=706, log_date='2018-10-04 04:19:34', ts=1538597974000),\n",
       " Row(auth='Logged In', itemInSession=78, page='NextSong', sessionId=706, log_date='2018-10-04 04:22:34', ts=1538598154000),\n",
       " Row(auth='Logged In', itemInSession=79, page='NextSong', sessionId=706, log_date='2018-10-04 04:25:30', ts=1538598330000),\n",
       " Row(auth='Logged In', itemInSession=80, page='NextSong', sessionId=706, log_date='2018-10-04 04:30:42', ts=1538598642000),\n",
       " Row(auth='Logged In', itemInSession=81, page='Thumbs Down', sessionId=706, log_date='2018-10-04 04:30:43', ts=1538598643000),\n",
       " Row(auth='Logged In', itemInSession=82, page='NextSong', sessionId=706, log_date='2018-10-04 04:33:24', ts=1538598804000),\n",
       " Row(auth='Logged In', itemInSession=83, page='NextSong', sessionId=706, log_date='2018-10-04 04:35:49', ts=1538598949000),\n",
       " Row(auth='Logged In', itemInSession=84, page='NextSong', sessionId=706, log_date='2018-10-04 04:39:36', ts=1538599176000),\n",
       " Row(auth='Logged In', itemInSession=85, page='NextSong', sessionId=706, log_date='2018-10-04 04:42:46', ts=1538599366000),\n",
       " Row(auth='Logged In', itemInSession=86, page='NextSong', sessionId=706, log_date='2018-10-04 04:45:20', ts=1538599520000),\n",
       " Row(auth='Logged In', itemInSession=87, page='NextSong', sessionId=706, log_date='2018-10-04 04:49:25', ts=1538599765000),\n",
       " Row(auth='Logged In', itemInSession=88, page='NextSong', sessionId=706, log_date='2018-10-04 04:55:13', ts=1538600113000),\n",
       " Row(auth='Logged In', itemInSession=89, page='NextSong', sessionId=706, log_date='2018-10-04 04:58:43', ts=1538600323000),\n",
       " Row(auth='Logged In', itemInSession=90, page='NextSong', sessionId=706, log_date='2018-10-04 05:02:40', ts=1538600560000),\n",
       " Row(auth='Logged In', itemInSession=91, page='Settings', sessionId=706, log_date='2018-10-04 05:02:57', ts=1538600577000),\n",
       " Row(auth='Logged In', itemInSession=92, page='Home', sessionId=706, log_date='2018-10-04 05:03:17', ts=1538600597000),\n",
       " Row(auth='Logged In', itemInSession=93, page='NextSong', sessionId=706, log_date='2018-10-04 05:06:06', ts=1538600766000),\n",
       " Row(auth='Logged In', itemInSession=94, page='NextSong', sessionId=706, log_date='2018-10-04 05:08:53', ts=1538600933000),\n",
       " Row(auth='Logged In', itemInSession=95, page='NextSong', sessionId=706, log_date='2018-10-04 05:15:04', ts=1538601304000),\n",
       " Row(auth='Logged In', itemInSession=96, page='Help', sessionId=706, log_date='2018-10-04 05:15:09', ts=1538601309000),\n",
       " Row(auth='Logged In', itemInSession=97, page='Home', sessionId=706, log_date='2018-10-04 05:15:23', ts=1538601323000),\n",
       " Row(auth='Logged In', itemInSession=98, page='NextSong', sessionId=706, log_date='2018-10-04 05:17:38', ts=1538601458000),\n",
       " Row(auth='Logged In', itemInSession=99, page='NextSong', sessionId=706, log_date='2018-10-04 05:23:29', ts=1538601809000),\n",
       " Row(auth='Logged In', itemInSession=100, page='NextSong', sessionId=706, log_date='2018-10-04 05:28:04', ts=1538602084000),\n",
       " Row(auth='Logged In', itemInSession=101, page='Add to Playlist', sessionId=706, log_date='2018-10-04 05:28:05', ts=1538602085000),\n",
       " Row(auth='Logged In', itemInSession=102, page='NextSong', sessionId=706, log_date='2018-10-04 05:31:14', ts=1538602274000),\n",
       " Row(auth='Logged In', itemInSession=103, page='NextSong', sessionId=706, log_date='2018-10-04 05:39:00', ts=1538602740000),\n",
       " Row(auth='Logged In', itemInSession=104, page='NextSong', sessionId=706, log_date='2018-10-04 05:43:32', ts=1538603012000),\n",
       " Row(auth='Logged In', itemInSession=105, page='NextSong', sessionId=706, log_date='2018-10-04 05:46:53', ts=1538603213000),\n",
       " Row(auth='Logged In', itemInSession=106, page='NextSong', sessionId=706, log_date='2018-10-04 05:51:28', ts=1538603488000),\n",
       " Row(auth='Logged In', itemInSession=107, page='NextSong', sessionId=706, log_date='2018-10-04 05:53:57', ts=1538603637000),\n",
       " Row(auth='Logged In', itemInSession=108, page='NextSong', sessionId=706, log_date='2018-10-04 05:59:02', ts=1538603942000),\n",
       " Row(auth='Logged In', itemInSession=109, page='NextSong', sessionId=706, log_date='2018-10-04 06:03:07', ts=1538604187000),\n",
       " Row(auth='Logged In', itemInSession=110, page='NextSong', sessionId=706, log_date='2018-10-04 06:06:58', ts=1538604418000),\n",
       " Row(auth='Logged In', itemInSession=111, page='NextSong', sessionId=706, log_date='2018-10-04 06:10:44', ts=1538604644000),\n",
       " Row(auth='Logged In', itemInSession=112, page='NextSong', sessionId=706, log_date='2018-10-04 06:13:23', ts=1538604803000),\n",
       " Row(auth='Logged In', itemInSession=113, page='NextSong', sessionId=706, log_date='2018-10-04 06:16:46', ts=1538605006000),\n",
       " Row(auth='Logged In', itemInSession=114, page='NextSong', sessionId=706, log_date='2018-10-04 06:20:56', ts=1538605256000),\n",
       " Row(auth='Logged In', itemInSession=115, page='NextSong', sessionId=706, log_date='2018-10-04 06:30:45', ts=1538605845000),\n",
       " Row(auth='Logged In', itemInSession=116, page='NextSong', sessionId=706, log_date='2018-10-04 06:34:58', ts=1538606098000),\n",
       " Row(auth='Logged In', itemInSession=117, page='NextSong', sessionId=706, log_date='2018-10-04 06:39:48', ts=1538606388000),\n",
       " Row(auth='Logged In', itemInSession=118, page='NextSong', sessionId=706, log_date='2018-10-04 06:45:50', ts=1538606750000),\n",
       " Row(auth='Logged In', itemInSession=119, page='NextSong', sessionId=706, log_date='2018-10-04 06:49:49', ts=1538606989000),\n",
       " Row(auth='Logged In', itemInSession=120, page='Thumbs Up', sessionId=706, log_date='2018-10-04 06:49:50', ts=1538606990000),\n",
       " Row(auth='Logged In', itemInSession=121, page='NextSong', sessionId=706, log_date='2018-10-04 06:53:56', ts=1538607236000),\n",
       " Row(auth='Logged In', itemInSession=122, page='NextSong', sessionId=706, log_date='2018-10-04 06:56:57', ts=1538607417000),\n",
       " Row(auth='Logged In', itemInSession=123, page='NextSong', sessionId=706, log_date='2018-10-04 07:00:35', ts=1538607635000),\n",
       " Row(auth='Logged In', itemInSession=124, page='Thumbs Down', sessionId=706, log_date='2018-10-04 07:00:36', ts=1538607636000),\n",
       " Row(auth='Logged In', itemInSession=125, page='NextSong', sessionId=706, log_date='2018-10-04 07:05:52', ts=1538607952000),\n",
       " Row(auth='Logged In', itemInSession=126, page='NextSong', sessionId=706, log_date='2018-10-04 07:11:07', ts=1538608267000),\n",
       " Row(auth='Logged In', itemInSession=127, page='NextSong', sessionId=706, log_date='2018-10-04 07:16:06', ts=1538608566000),\n",
       " Row(auth='Logged In', itemInSession=128, page='NextSong', sessionId=706, log_date='2018-10-04 07:20:02', ts=1538608802000),\n",
       " Row(auth='Logged In', itemInSession=129, page='NextSong', sessionId=706, log_date='2018-10-04 07:23:09', ts=1538608989000),\n",
       " Row(auth='Logged In', itemInSession=130, page='NextSong', sessionId=706, log_date='2018-10-04 07:26:53', ts=1538609213000),\n",
       " Row(auth='Logged In', itemInSession=131, page='NextSong', sessionId=706, log_date='2018-10-04 07:30:55', ts=1538609455000),\n",
       " Row(auth='Logged In', itemInSession=132, page='NextSong', sessionId=706, log_date='2018-10-04 07:35:08', ts=1538609708000),\n",
       " Row(auth='Logged In', itemInSession=133, page='NextSong', sessionId=706, log_date='2018-10-04 07:38:42', ts=1538609922000),\n",
       " Row(auth='Logged In', itemInSession=134, page='NextSong', sessionId=706, log_date='2018-10-04 07:43:16', ts=1538610196000),\n",
       " Row(auth='Logged In', itemInSession=135, page='NextSong', sessionId=706, log_date='2018-10-04 07:45:15', ts=1538610315000),\n",
       " Row(auth='Logged In', itemInSession=136, page='NextSong', sessionId=706, log_date='2018-10-04 07:49:13', ts=1538610553000),\n",
       " Row(auth='Logged In', itemInSession=137, page='NextSong', sessionId=706, log_date='2018-10-04 08:00:08', ts=1538611208000),\n",
       " Row(auth='Logged In', itemInSession=138, page='Home', sessionId=706, log_date='2018-10-04 08:00:46', ts=1538611246000),\n",
       " Row(auth='Logged In', itemInSession=139, page='NextSong', sessionId=706, log_date='2018-10-04 08:03:58', ts=1538611438000),\n",
       " Row(auth='Logged In', itemInSession=140, page='NextSong', sessionId=706, log_date='2018-10-04 08:07:15', ts=1538611635000),\n",
       " Row(auth='Logged In', itemInSession=141, page='NextSong', sessionId=706, log_date='2018-10-04 08:11:53', ts=1538611913000),\n",
       " Row(auth='Logged In', itemInSession=142, page='NextSong', sessionId=706, log_date='2018-10-04 08:15:02', ts=1538612102000),\n",
       " Row(auth='Logged In', itemInSession=143, page='NextSong', sessionId=706, log_date='2018-10-04 08:18:18', ts=1538612298000),\n",
       " Row(auth='Logged In', itemInSession=144, page='NextSong', sessionId=706, log_date='2018-10-04 08:21:10', ts=1538612470000),\n",
       " Row(auth='Logged In', itemInSession=145, page='NextSong', sessionId=706, log_date='2018-10-04 08:26:15', ts=1538612775000),\n",
       " Row(auth='Logged In', itemInSession=146, page='NextSong', sessionId=706, log_date='2018-10-04 08:32:36', ts=1538613156000),\n",
       " Row(auth='Logged In', itemInSession=147, page='Thumbs Up', sessionId=706, log_date='2018-10-04 08:32:37', ts=1538613157000),\n",
       " Row(auth='Logged In', itemInSession=148, page='NextSong', sessionId=706, log_date='2018-10-04 08:35:35', ts=1538613335000),\n",
       " Row(auth='Logged In', itemInSession=149, page='NextSong', sessionId=706, log_date='2018-10-04 08:39:22', ts=1538613562000),\n",
       " Row(auth='Logged In', itemInSession=150, page='NextSong', sessionId=706, log_date='2018-10-04 08:45:18', ts=1538613918000),\n",
       " Row(auth='Logged In', itemInSession=151, page='Add to Playlist', sessionId=706, log_date='2018-10-04 08:46:33', ts=1538613993000),\n",
       " Row(auth='Logged In', itemInSession=152, page='NextSong', sessionId=706, log_date='2018-10-04 08:49:10', ts=1538614150000),\n",
       " Row(auth='Logged In', itemInSession=153, page='NextSong', sessionId=706, log_date='2018-10-04 08:52:30', ts=1538614350000),\n",
       " Row(auth='Logged In', itemInSession=154, page='NextSong', sessionId=706, log_date='2018-10-04 08:55:50', ts=1538614550000),\n",
       " Row(auth='Logged In', itemInSession=155, page='NextSong', sessionId=706, log_date='2018-10-04 08:59:41', ts=1538614781000),\n",
       " Row(auth='Logged In', itemInSession=156, page='NextSong', sessionId=706, log_date='2018-10-04 09:04:04', ts=1538615044000),\n",
       " Row(auth='Logged In', itemInSession=157, page='Thumbs Down', sessionId=706, log_date='2018-10-04 09:04:05', ts=1538615045000),\n",
       " Row(auth='Logged In', itemInSession=158, page='NextSong', sessionId=706, log_date='2018-10-04 09:06:34', ts=1538615194000),\n",
       " Row(auth='Logged In', itemInSession=159, page='NextSong', sessionId=706, log_date='2018-10-04 09:09:55', ts=1538615395000),\n",
       " Row(auth='Logged In', itemInSession=160, page='NextSong', sessionId=706, log_date='2018-10-04 09:14:10', ts=1538615650000),\n",
       " Row(auth='Logged In', itemInSession=162, page='Home', sessionId=706, log_date='2018-10-04 09:17:47', ts=1538615867000),\n",
       " Row(auth='Logged In', itemInSession=161, page='NextSong', sessionId=706, log_date='2018-10-04 09:17:47', ts=1538615867000),\n",
       " Row(auth='Logged In', itemInSession=163, page='NextSong', sessionId=706, log_date='2018-10-04 09:22:19', ts=1538616139000),\n",
       " Row(auth='Logged In', itemInSession=164, page='NextSong', sessionId=706, log_date='2018-10-04 09:26:09', ts=1538616369000),\n",
       " Row(auth='Logged In', itemInSession=165, page='NextSong', sessionId=706, log_date='2018-10-04 09:31:36', ts=1538616696000),\n",
       " Row(auth='Logged In', itemInSession=166, page='NextSong', sessionId=706, log_date='2018-10-04 09:33:25', ts=1538616805000),\n",
       " Row(auth='Logged In', itemInSession=167, page='Add to Playlist', sessionId=706, log_date='2018-10-04 09:33:34', ts=1538616814000),\n",
       " Row(auth='Logged In', itemInSession=168, page='NextSong', sessionId=706, log_date='2018-10-04 09:43:21', ts=1538617401000),\n",
       " Row(auth='Logged In', itemInSession=169, page='NextSong', sessionId=706, log_date='2018-10-04 09:46:40', ts=1538617600000),\n",
       " Row(auth='Logged In', itemInSession=170, page='Help', sessionId=706, log_date='2018-10-04 09:48:02', ts=1538617682000),\n",
       " Row(auth='Logged In', itemInSession=171, page='NextSong', sessionId=706, log_date='2018-10-04 09:50:28', ts=1538617828000),\n",
       " Row(auth='Logged In', itemInSession=172, page='NextSong', sessionId=706, log_date='2018-10-04 09:54:56', ts=1538618096000),\n",
       " Row(auth='Logged In', itemInSession=173, page='NextSong', sessionId=706, log_date='2018-10-04 10:00:02', ts=1538618402000),\n",
       " Row(auth='Logged In', itemInSession=174, page='NextSong', sessionId=706, log_date='2018-10-04 10:02:50', ts=1538618570000),\n",
       " Row(auth='Logged In', itemInSession=175, page='Thumbs Up', sessionId=706, log_date='2018-10-04 10:02:51', ts=1538618571000),\n",
       " Row(auth='Logged In', itemInSession=176, page='Add to Playlist', sessionId=706, log_date='2018-10-04 10:02:59', ts=1538618579000),\n",
       " Row(auth='Logged In', itemInSession=177, page='NextSong', sessionId=706, log_date='2018-10-04 10:06:00', ts=1538618760000),\n",
       " Row(auth='Logged In', itemInSession=178, page='NextSong', sessionId=706, log_date='2018-10-04 10:09:56', ts=1538618996000),\n",
       " Row(auth='Logged In', itemInSession=179, page='NextSong', sessionId=706, log_date='2018-10-04 10:13:04', ts=1538619184000),\n",
       " Row(auth='Logged In', itemInSession=180, page='NextSong', sessionId=706, log_date='2018-10-04 10:19:50', ts=1538619590000),\n",
       " Row(auth='Logged In', itemInSession=181, page='NextSong', sessionId=706, log_date='2018-10-04 10:24:22', ts=1538619862000),\n",
       " Row(auth='Logged In', itemInSession=182, page='NextSong', sessionId=706, log_date='2018-10-04 10:29:40', ts=1538620180000),\n",
       " Row(auth='Logged In', itemInSession=183, page='NextSong', sessionId=706, log_date='2018-10-04 10:33:41', ts=1538620421000)]"
      ]
     },
     "execution_count": 33,
     "metadata": {},
     "output_type": "execute_result"
    }
   ],
   "source": [
    "# 随机选取一个用户，查看该用户itemInSession，sessionId等参数的意义\n",
    "df.filter(df.userId == '100') \\\n",
    "    .orderBy(asc('ts')) \\\n",
    "    .select(['auth','itemInSession','page','sessionId','log_date','ts']) \\\n",
    "    .take(500)\n",
    "# 发现sessionId是用户每次使用sparkify时，系统设定的一个值，每次使用该值保持不变；\n",
    "# itemInSession是在本次使用过程中，依次访问的页面编号；\n",
    "# 每次layout，itemInSession会损失两个编号。"
   ]
  },
  {
   "cell_type": "code",
   "execution_count": 34,
   "metadata": {},
   "outputs": [
    {
     "name": "stderr",
     "output_type": "stream",
     "text": [
      "C:\\Users\\j-hua\\Anaconda3\\lib\\site-packages\\numpy\\core\\fromnumeric.py:52: FutureWarning: reshape is deprecated and will raise in a subsequent release. Please use .values.reshape(...) instead\n",
      "  return getattr(obj, method)(*args, **kwds)\n"
     ]
    },
    {
     "data": {
      "text/plain": [
       "{'whiskers': [<matplotlib.lines.Line2D at 0x14fc17d6a58>,\n",
       "  <matplotlib.lines.Line2D at 0x14fc17d6ef0>,\n",
       "  <matplotlib.lines.Line2D at 0x14fc180d898>,\n",
       "  <matplotlib.lines.Line2D at 0x14fc180dcc0>],\n",
       " 'caps': [<matplotlib.lines.Line2D at 0x14fc1803358>,\n",
       "  <matplotlib.lines.Line2D at 0x14fc1803780>,\n",
       "  <matplotlib.lines.Line2D at 0x14fc1816128>,\n",
       "  <matplotlib.lines.Line2D at 0x14fc1816550>],\n",
       " 'boxes': [<matplotlib.lines.Line2D at 0x14fc17d6908>,\n",
       "  <matplotlib.lines.Line2D at 0x14fc180d470>],\n",
       " 'medians': [<matplotlib.lines.Line2D at 0x14fc1803ba8>,\n",
       "  <matplotlib.lines.Line2D at 0x14fc1816978>],\n",
       " 'fliers': [<matplotlib.lines.Line2D at 0x14fc1803fd0>,\n",
       "  <matplotlib.lines.Line2D at 0x14fc1816da0>],\n",
       " 'means': []}"
      ]
     },
     "execution_count": 34,
     "metadata": {},
     "output_type": "execute_result"
    },
    {
     "data": {
      "image/png": "[encoded data removed]",
      "text/plain": [
       "<Figure size 864x432 with 2 Axes>"
      ]
     },
     "metadata": {},
     "output_type": "display_data"
    }
   ],
   "source": [
    "# 8. 正常用户和流失用户各使用了几次？\n",
    "## 提取用户使用信息数据集\n",
    "df_session_count = df.select(['churn_user', 'userId','sessionId']).dropDuplicates() \\\n",
    "                    .groupBy(['churn_user', 'userId']).count().toPandas().drop('userId', axis = 1)\n",
    "\n",
    "## 对正常用户和流失用户的使用次数分布进行作图\n",
    "fig, ax = plt.subplots(1,2, figsize = (12,6))\n",
    "ax[0].hist(np.log(df_session_count[df_session_count.churn_user == 0]['count'] + 1), \\\n",
    "           label = 'unchurn', color = 'g', alpha = 0.3, bins = 20)\n",
    "ax[0].hist(np.log(df_session_count[df_session_count.churn_user == 1]['count'] + 1), \\\n",
    "           label = 'churn', color = 'r', alpha = 0.3, bins = 20)\n",
    "ax[0].legend()\n",
    "ax[1].boxplot([df_session_count[df_session_count.churn_user == 0]['count'], \\\n",
    "               df_session_count[df_session_count.churn_user == 1]['count']], \\\n",
    "              labels = ['unchurn', 'churn'])\n",
    "\n",
    "# 下图显示正常用户的使用次数比流失用户略高一点，这也许与流失用户使用总时间短有关。"
   ]
  },
  {
   "cell_type": "code",
   "execution_count": 35,
   "metadata": {},
   "outputs": [],
   "source": [
    "# 9. 正常用户和流失用户每次平均使用多长时间？\n",
    "## 提取每次使用时间数据集\n",
    "session_length_df = df.select(['churn_user', 'userId','sessionId','ts']).toPandas()"
   ]
  },
  {
   "cell_type": "code",
   "execution_count": 36,
   "metadata": {},
   "outputs": [],
   "source": [
    "## 计算每个用户每次使用时长\n",
    "session_length_per_user = session_length_df.sort_values(by = ['churn_user', 'userId', 'sessionId', 'ts'], ascending = True) \\\n",
    "    .groupby(['churn_user', 'userId', 'sessionId']).last() \\\n",
    "    - session_length_df.sort_values(by = ['churn_user', 'userId', 'sessionId', 'ts'], ascending = True) \\\n",
    "    .groupby(['churn_user', 'userId', 'sessionId']).first()"
   ]
  },
  {
   "cell_type": "code",
   "execution_count": 37,
   "metadata": {},
   "outputs": [
    {
     "name": "stderr",
     "output_type": "stream",
     "text": [
      "C:\\Users\\j-hua\\Anaconda3\\lib\\site-packages\\numpy\\core\\fromnumeric.py:52: FutureWarning: reshape is deprecated and will raise in a subsequent release. Please use .values.reshape(...) instead\n",
      "  return getattr(obj, method)(*args, **kwds)\n"
     ]
    },
    {
     "data": {
      "image/png": "[encoded data removed]",
      "text/plain": [
       "<Figure size 864x432 with 2 Axes>"
      ]
     },
     "metadata": {},
     "output_type": "display_data"
    }
   ],
   "source": [
    "## 对正常用户和流失用户每次使用时长的分布作图\n",
    "fig, ax = plt.subplots(1,2, figsize = (12,6));\n",
    "ax[0].hist(session_length_per_user[session_length_per_user.index.get_level_values(0) == 0].mean(level = 1)['ts'], \\\n",
    "            label = 'unchurn', color = 'g', alpha = 0.3);\n",
    "ax[0].hist(session_length_per_user[session_length_per_user.index.get_level_values(0) == 1].mean(level = 1)['ts'], \\\n",
    "            label = 'churn', color = 'r', alpha = 0.3)\n",
    "ax[0].legend();\n",
    "ax[1].boxplot([session_length_per_user[session_length_per_user.index.get_level_values(0) == 0].mean(level = 1)['ts'], \\\n",
    "              session_length_per_user[session_length_per_user.index.get_level_values(0) == 1].mean(level = 1)['ts']], \\\n",
    "    labels = ['unchurn', 'churn']);\n",
    "\n",
    "\n",
    "# 下图显示流失用户每次使用的平均时长略高于正常用户。"
   ]
  },
  {
   "cell_type": "code",
   "execution_count": 38,
   "metadata": {},
   "outputs": [],
   "source": [
    "# 10. 正常用户和流失用户每次使用浏览页面数量？\n",
    "## 创建正常用户每次使用浏览页面数量数据集\n",
    "item_session_df = df.select(['churn_user', 'userId', 'sessionId', 'itemInSession']) \\\n",
    "    .groupBy(['churn_user', 'userId', 'sessionId']).max().toPandas()"
   ]
  },
  {
   "cell_type": "code",
   "execution_count": 39,
   "metadata": {},
   "outputs": [
    {
     "name": "stderr",
     "output_type": "stream",
     "text": [
      "C:\\Users\\j-hua\\Anaconda3\\lib\\site-packages\\numpy\\core\\fromnumeric.py:52: FutureWarning: reshape is deprecated and will raise in a subsequent release. Please use .values.reshape(...) instead\n",
      "  return getattr(obj, method)(*args, **kwds)\n"
     ]
    },
    {
     "data": {
      "image/png": "[encoded data removed]",
      "text/plain": [
       "<Figure size 864x432 with 2 Axes>"
      ]
     },
     "metadata": {},
     "output_type": "display_data"
    }
   ],
   "source": [
    "## 对浏览页面数量分布情况作图\n",
    "fig, ax = plt.subplots(1,2, figsize = (12,6));\n",
    "ax[0].hist(item_session_df[item_session_df.churn_user == 0].groupby('userId')['max(itemInSession)'].mean(), \\\n",
    "           label = 'unchurn', color = 'g', alpha = 0.3, bins = 20);\n",
    "ax[0].hist(item_session_df[item_session_df.churn_user == 1].groupby('userId')['max(itemInSession)'].mean(), \\\n",
    "           label = 'churn', color = 'r', alpha = 0.3,bins = 20);\n",
    "ax[0].legend();\n",
    "ax[1].boxplot([item_session_df[item_session_df.churn_user == 0].groupby('userId')['max(itemInSession)'].mean(), \\\n",
    "               item_session_df[item_session_df.churn_user == 1].groupby('userId')['max(itemInSession)'].mean()], \\\n",
    "             labels = ['unchurn', 'churn']);\n",
    "\n",
    "# 下图可以看出流失用户和正常用户每次使用浏览页面的数量分布相似；\n",
    "# 流失用户访问页面数量的略高于正常用户的访问数量."
   ]
  },
  {
   "cell_type": "code",
   "execution_count": 40,
   "metadata": {},
   "outputs": [],
   "source": [
    "# 11. 正常用户和流失用户每次使用听歌数量？\n",
    "## 定义是否听歌函数\n",
    "is_song = udf(lambda x: 1 if x == 'NextSong' else 0, IntegerType())\n",
    "## 创建song特征列\n",
    "df = df.withColumn('song', is_song(df.page))\n",
    "## 提取每次听歌数据集\n",
    "songs_per_session = df.select(['churn_user', 'userId', 'sessionId', 'song']) \\\n",
    "                    .groupBy(['churn_user', 'userId', 'sessionId']).sum().toPandas()"
   ]
  },
  {
   "cell_type": "code",
   "execution_count": 41,
   "metadata": {
    "scrolled": true
   },
   "outputs": [
    {
     "name": "stderr",
     "output_type": "stream",
     "text": [
      "C:\\Users\\j-hua\\Anaconda3\\lib\\site-packages\\numpy\\core\\fromnumeric.py:52: FutureWarning: reshape is deprecated and will raise in a subsequent release. Please use .values.reshape(...) instead\n",
      "  return getattr(obj, method)(*args, **kwds)\n"
     ]
    },
    {
     "data": {
      "text/plain": [
       "{'whiskers': [<matplotlib.lines.Line2D at 0x14fc66dd7b8>,\n",
       "  <matplotlib.lines.Line2D at 0x14fc66ddc50>,\n",
       "  <matplotlib.lines.Line2D at 0x14fc6e475c0>,\n",
       "  <matplotlib.lines.Line2D at 0x14fc6e479e8>],\n",
       " 'caps': [<matplotlib.lines.Line2D at 0x14fc6e390b8>,\n",
       "  <matplotlib.lines.Line2D at 0x14fc6e394e0>,\n",
       "  <matplotlib.lines.Line2D at 0x14fc6e47e10>,\n",
       "  <matplotlib.lines.Line2D at 0x14fc6e51278>],\n",
       " 'boxes': [<matplotlib.lines.Line2D at 0x14fc66dd668>,\n",
       "  <matplotlib.lines.Line2D at 0x14fc6e47160>],\n",
       " 'medians': [<matplotlib.lines.Line2D at 0x14fc6e39908>,\n",
       "  <matplotlib.lines.Line2D at 0x14fc6e516a0>],\n",
       " 'fliers': [<matplotlib.lines.Line2D at 0x14fc6e39d30>,\n",
       "  <matplotlib.lines.Line2D at 0x14fc6e51ac8>],\n",
       " 'means': []}"
      ]
     },
     "execution_count": 41,
     "metadata": {},
     "output_type": "execute_result"
    },
    {
     "data": {
      "image/png": "[encoded data removed]",
      "text/plain": [
       "<Figure size 864x432 with 2 Axes>"
      ]
     },
     "metadata": {},
     "output_type": "display_data"
    }
   ],
   "source": [
    "## 对正常用户和流失用户每次使用听歌数量的分布情况作图\n",
    "fig, ax = plt.subplots(1,2, figsize = (12,6))\n",
    "ax[0].hist(songs_per_session[songs_per_session['churn_user'] == 0] \\\n",
    "           .groupby('userId')['sum(song)'].mean(), label = 'unchurn', color = 'g', alpha = 0.3, bins = 20)\n",
    "ax[0].hist(songs_per_session[songs_per_session['churn_user'] == 1] \\\n",
    "           .groupby('userId')['sum(song)'].mean(), label = 'churn', color = 'r', alpha = 0.3, bins = 20)\n",
    "ax[0].legend();\n",
    "ax[1].boxplot([songs_per_session[songs_per_session['churn_user'] == 0] \\\n",
    "               .groupby('userId')['sum(song)'].mean(), \\\n",
    "              songs_per_session[songs_per_session['churn_user'] == 1] \\\n",
    "               .groupby('userId')['sum(song)'].mean()], \\\n",
    "             labels = ['unchurn','churn'])\n",
    "\n",
    "## 下图显示流失用户每次使用的平均听歌数量略高于正常用户"
   ]
  },
  {
   "cell_type": "code",
   "execution_count": 42,
   "metadata": {},
   "outputs": [],
   "source": [
    "# 12. 正常用户和流失用户每次使用听歌页面占浏览页面的比例分别是多少？\n",
    "## 提取每次使用听歌和页面总数数据集\n",
    "item_songs_per_session = df.select(['churn_user', 'userId', 'sessionId', 'itemInSession', 'song']) \\\n",
    "                        .orderBy(['churn_user', 'userId', 'sessionId']).toPandas()"
   ]
  },
  {
   "cell_type": "code",
   "execution_count": 43,
   "metadata": {},
   "outputs": [],
   "source": [
    "## 对正常用户和流失用户分别计算听歌页面占浏览页面的比例\n",
    "songs_ratio_unchurn = (item_songs_per_session[item_songs_per_session.churn_user == 0] \\\n",
    "                       .groupby(['userId', 'sessionId'])['song'].sum() \\\n",
    "                       /(item_songs_per_session[item_songs_per_session.churn_user == 0] \\\n",
    "                         .groupby(['userId', 'sessionId'])['itemInSession'].max() + 1)) \\\n",
    "                        .fillna(0)\n",
    "songs_ratio_churn = (item_songs_per_session[item_songs_per_session.churn_user == 1] \\\n",
    "                     .groupby(['userId', 'sessionId'])['song'].sum() \\\n",
    "                     /(item_songs_per_session[item_songs_per_session.churn_user == 1] \\\n",
    "                       .groupby(['userId', 'sessionId'])['itemInSession'].max() + 1)) \\\n",
    "                        .fillna(0)"
   ]
  },
  {
   "cell_type": "code",
   "execution_count": 44,
   "metadata": {},
   "outputs": [
    {
     "data": {
      "text/plain": [
       "{'whiskers': [<matplotlib.lines.Line2D at 0x14fcae4cf60>,\n",
       "  <matplotlib.lines.Line2D at 0x14fcae67438>,\n",
       "  <matplotlib.lines.Line2D at 0x14fcae62d68>,\n",
       "  <matplotlib.lines.Line2D at 0x14fcae481d0>],\n",
       " 'caps': [<matplotlib.lines.Line2D at 0x14fcae67860>,\n",
       "  <matplotlib.lines.Line2D at 0x14fcae67c88>,\n",
       "  <matplotlib.lines.Line2D at 0x14fcae485f8>,\n",
       "  <matplotlib.lines.Line2D at 0x14fcae48a20>],\n",
       " 'boxes': [<matplotlib.lines.Line2D at 0x14fcae4ce10>,\n",
       "  <matplotlib.lines.Line2D at 0x14fcae62908>],\n",
       " 'medians': [<matplotlib.lines.Line2D at 0x14fcae620f0>,\n",
       "  <matplotlib.lines.Line2D at 0x14fcae48e48>],\n",
       " 'fliers': [<matplotlib.lines.Line2D at 0x14fcae62518>,\n",
       "  <matplotlib.lines.Line2D at 0x14fcae562b0>],\n",
       " 'means': []}"
      ]
     },
     "execution_count": 44,
     "metadata": {},
     "output_type": "execute_result"
    },
    {
     "data": {
      "image/png": "[encoded data removed]",
      "text/plain": [
       "<Figure size 864x432 with 2 Axes>"
      ]
     },
     "metadata": {},
     "output_type": "display_data"
    }
   ],
   "source": [
    "## 对正常用户和流失用户每次使用听歌页面占总浏览页面的比例进行作图\n",
    "fig, ax = plt.subplots(1,2, figsize = (12,6))\n",
    "ax[0].hist(songs_ratio_unchurn.values, label = 'unchurn', color = 'g', alpha = 0.3, bins = 20)\n",
    "ax[0].hist(songs_ratio_churn.values, label = 'churn', color = 'r', alpha = 0.3, bins = 20)\n",
    "ax[0].legend();\n",
    "ax[1].boxplot([songs_ratio_unchurn.values, \\\n",
    "              songs_ratio_churn.values], \\\n",
    "             labels = ['unchurn','churn'])\n",
    "\n",
    "## 下图可以看出正常用户每次使用听歌页面占所有访问页面的比例略高于流失用户的该比例。"
   ]
  },
  {
   "cell_type": "code",
   "execution_count": 45,
   "metadata": {},
   "outputs": [
    {
     "name": "stderr",
     "output_type": "stream",
     "text": [
      "C:\\Users\\j-hua\\Anaconda3\\lib\\site-packages\\numpy\\core\\fromnumeric.py:52: FutureWarning: reshape is deprecated and will raise in a subsequent release. Please use .values.reshape(...) instead\n",
      "  return getattr(obj, method)(*args, **kwds)\n"
     ]
    },
    {
     "data": {
      "text/plain": [
       "{'whiskers': [<matplotlib.lines.Line2D at 0x14fc9cf30b8>,\n",
       "  <matplotlib.lines.Line2D at 0x14fc9cf3550>,\n",
       "  <matplotlib.lines.Line2D at 0x14fc9cfde80>,\n",
       "  <matplotlib.lines.Line2D at 0x14fc9e8f2e8>],\n",
       " 'caps': [<matplotlib.lines.Line2D at 0x14fc9cf3978>,\n",
       "  <matplotlib.lines.Line2D at 0x14fc9cf3da0>,\n",
       "  <matplotlib.lines.Line2D at 0x14fc9e8f710>,\n",
       "  <matplotlib.lines.Line2D at 0x14fc9e8fb38>],\n",
       " 'boxes': [<matplotlib.lines.Line2D at 0x14fc9ce6f28>,\n",
       "  <matplotlib.lines.Line2D at 0x14fc9cfda20>],\n",
       " 'medians': [<matplotlib.lines.Line2D at 0x14fc9cfd208>,\n",
       "  <matplotlib.lines.Line2D at 0x14fc9e8ff60>],\n",
       " 'fliers': [<matplotlib.lines.Line2D at 0x14fc9cfd630>,\n",
       "  <matplotlib.lines.Line2D at 0x14fc9e9a3c8>],\n",
       " 'means': []}"
      ]
     },
     "execution_count": 45,
     "metadata": {},
     "output_type": "execute_result"
    },
    {
     "data": {
      "image/png": "[encoded data removed]",
      "text/plain": [
       "<Figure size 864x432 with 2 Axes>"
      ]
     },
     "metadata": {},
     "output_type": "display_data"
    }
   ],
   "source": [
    "## 流失用户曾经也是正常用户，因此对用户每一次使用时听歌页面所占比例都进行分析可能会掩盖正常用户和流失用户的差异;\n",
    "## 因此尝试对比正常用户和流失用户最近一次使用时听歌页面占浏览页面的比例\n",
    "fig, ax = plt.subplots(1,2, figsize = (12,6))\n",
    "ax[0].hist(songs_ratio_unchurn.groupby(level = [0]).last(), \\\n",
    "           label = 'unchurn', color = 'g', alpha = 0.3, bins = 20)\n",
    "ax[0].hist(songs_ratio_churn.groupby(level = [0]).last(), \\\n",
    "           label = 'churn', color = 'r', alpha = 0.3, bins = 20)\n",
    "ax[0].legend();\n",
    "ax[1].boxplot([songs_ratio_unchurn.groupby(level = [0]).last(), \\\n",
    "              songs_ratio_churn.groupby(level = [0]).last()], \\\n",
    "             labels = ['unchurn','churn'])\n",
    "\n",
    "## 下图可以看出正常用户最近一次使用其听歌页面占所有访问页面的比例显著高于流失用户的该比例。"
   ]
  },
  {
   "cell_type": "markdown",
   "metadata": {},
   "source": [
    "我们发现无论是正常用户还是流失用户，每次使用NextSong页面占据总浏览页面的70%~80%，这说明其他页面的访问比例相对很小；我们按照之前对page页面的总体分析结果将page页面中各个页面划分为积极互动类页面（包括Add to Playlist, Add Friend, Thumbs Up）、体验差类页面（包括Error, Roll Advert, Thumbs Down）、调整级别类页面（包括Upgrade, Downgrade, Submit Upgrade, Submit Downgrade）和其他页面（剩余页面）；分别计算正常用户和流失用户最新一次登录对上述几类页面的访问比例。"
   ]
  },
  {
   "cell_type": "code",
   "execution_count": 46,
   "metadata": {},
   "outputs": [],
   "source": [
    "# 13. 正常用户和流失用户最新一次使用时对各类页面的访问比例\n",
    "## 定义各类页面\n",
    "act_pages = ['Add to Playlist', 'Add Friend', 'Thumbs Up']\n",
    "bad_pages = ['Error', 'Roll Advert', 'Thumbs Down']\n",
    "adjust_pages = ['Upgrade', 'Downgrade', 'Submit Upgrade', 'Submit Downgrade']\n",
    "\n",
    "## 定义计算各类页面的函数\n",
    "is_active = udf(lambda x : 1 if x in act_pages else 0, IntegerType())\n",
    "is_bad = udf(lambda x : 1 if x in bad_pages else 0, IntegerType())\n",
    "is_adjust = udf(lambda x : 1 if x in adjust_pages else 0, IntegerType())\n",
    "\n",
    "## 创建各类页面的特征列\n",
    "df = df.withColumn('active', is_active(df.page))\n",
    "df = df.withColumn('bad', is_bad(df.page))\n",
    "df = df.withColumn('adjust', is_adjust(df.page))"
   ]
  },
  {
   "cell_type": "code",
   "execution_count": 47,
   "metadata": {},
   "outputs": [],
   "source": [
    "## 提取用户访问各类页面的数据集\n",
    "pages_ratio_df = df.select(['churn_user', 'userId', 'sessionId', 'itemInSession', 'active', 'bad', 'adjust']) \\\n",
    "                    .orderBy(['churn_user', 'userId', 'sessionId']).toPandas()"
   ]
  },
  {
   "cell_type": "code",
   "execution_count": 48,
   "metadata": {},
   "outputs": [],
   "source": [
    "## 计算正常用户和流失用户最近一次使用访问的页面总数\n",
    "items_unchurn = pages_ratio_df[pages_ratio_df.churn_user == 0].groupby('userId').last()['itemInSession'] + 1\n",
    "items_churn = pages_ratio_df[pages_ratio_df.churn_user == 1].groupby('userId').last()['itemInSession'] + 1"
   ]
  },
  {
   "cell_type": "code",
   "execution_count": 49,
   "metadata": {},
   "outputs": [],
   "source": [
    "## 计算正常用户和流失用户最近一次使用时各类页面的访问次数\n",
    "pages_unchurn = pages_ratio_df[pages_ratio_df.churn_user == 0] \\\n",
    "                .groupby(['userId', 'sessionId']).sum() \\\n",
    "                .groupby(level = [0]).last() \\\n",
    "                .drop(['churn_user', 'itemInSession'], axis = 1)\n",
    "pages_churn = pages_ratio_df[pages_ratio_df.churn_user == 1] \\\n",
    "                .groupby(['userId', 'sessionId']).sum() \\\n",
    "                .groupby(level = [0]).last() \\\n",
    "                .drop(['churn_user', 'itemInSession'], axis = 1)"
   ]
  },
  {
   "cell_type": "code",
   "execution_count": 50,
   "metadata": {},
   "outputs": [
    {
     "name": "stderr",
     "output_type": "stream",
     "text": [
      "C:\\Users\\j-hua\\Anaconda3\\lib\\site-packages\\ipykernel\\__main__.py:2: FutureWarning: reshape is deprecated and will raise in a subsequent release. Please use .values.reshape(...) instead\n",
      "  from ipykernel import kernelapp as app\n",
      "C:\\Users\\j-hua\\Anaconda3\\lib\\site-packages\\ipykernel\\__main__.py:3: FutureWarning: reshape is deprecated and will raise in a subsequent release. Please use .values.reshape(...) instead\n",
      "  app.launch_new_instance()\n"
     ]
    }
   ],
   "source": [
    "## 计算正常用户和流失用户最近一次使用时各类页面的访问比例\n",
    "pages_ratio_unchurn = np.divide(pages_unchurn, items_unchurn.reshape((items_unchurn.shape[0],1)))\n",
    "pages_ratio_churn = np.divide(pages_churn, items_churn.reshape((items_churn.shape[0],1)))"
   ]
  },
  {
   "cell_type": "code",
   "execution_count": 51,
   "metadata": {},
   "outputs": [
    {
     "name": "stderr",
     "output_type": "stream",
     "text": [
      "C:\\Users\\j-hua\\Anaconda3\\lib\\site-packages\\numpy\\core\\fromnumeric.py:52: FutureWarning: reshape is deprecated and will raise in a subsequent release. Please use .values.reshape(...) instead\n",
      "  return getattr(obj, method)(*args, **kwds)\n"
     ]
    },
    {
     "data": {
      "text/plain": [
       "{'whiskers': [<matplotlib.lines.Line2D at 0x14fca9710b8>,\n",
       "  <matplotlib.lines.Line2D at 0x14fca971550>,\n",
       "  <matplotlib.lines.Line2D at 0x14fcaa46e80>,\n",
       "  <matplotlib.lines.Line2D at 0x14fcaa562e8>],\n",
       " 'caps': [<matplotlib.lines.Line2D at 0x14fca971978>,\n",
       "  <matplotlib.lines.Line2D at 0x14fca971da0>,\n",
       "  <matplotlib.lines.Line2D at 0x14fcaa56710>,\n",
       "  <matplotlib.lines.Line2D at 0x14fcaa56b38>],\n",
       " 'boxes': [<matplotlib.lines.Line2D at 0x14fca961f28>,\n",
       "  <matplotlib.lines.Line2D at 0x14fcaa46a20>],\n",
       " 'medians': [<matplotlib.lines.Line2D at 0x14fcaa46208>,\n",
       "  <matplotlib.lines.Line2D at 0x14fcaa56f60>],\n",
       " 'fliers': [<matplotlib.lines.Line2D at 0x14fcaa46630>,\n",
       "  <matplotlib.lines.Line2D at 0x14fcaa643c8>],\n",
       " 'means': []}"
      ]
     },
     "execution_count": 51,
     "metadata": {},
     "output_type": "execute_result"
    },
    {
     "data": {
      "image/png": "[encoded data removed]",
      "text/plain": [
       "<Figure size 864x1296 with 6 Axes>"
      ]
     },
     "metadata": {},
     "output_type": "display_data"
    }
   ],
   "source": [
    "## 对正常用户和流失用户对各类页面的访问比例的分布作图\n",
    "fig, ax = plt.subplots(3,2, figsize = (12,18))\n",
    "ax[0][0].hist(pages_ratio_unchurn['active'], label = 'unchurn', color = 'g', alpha = 0.3)\n",
    "ax[0][0].hist(pages_ratio_churn['active'], label = 'churn', color = 'r', alpha = 0.3)\n",
    "ax[0][0].legend()\n",
    "ax[0][1].boxplot([pages_ratio_unchurn['active'],pages_ratio_churn['active']] , labels = ['unchurn', 'churn'])\n",
    "ax[1][0].hist(pages_ratio_unchurn['bad'], label = 'unchurn', color = 'g', alpha = 0.3)\n",
    "ax[1][0].hist(pages_ratio_churn['bad'], label = 'churn', color = 'r', alpha = 0.3)\n",
    "ax[1][0].legend()\n",
    "ax[1][1].boxplot([pages_ratio_unchurn['bad'],pages_ratio_churn['bad']] , labels = ['unchurn', 'churn'])\n",
    "ax[2][0].hist(pages_ratio_unchurn['adjust'], label = 'unchurn', color = 'g', alpha = 0.3)\n",
    "ax[2][0].hist(pages_ratio_churn['adjust'], label = 'churn', color = 'r', alpha = 0.3)\n",
    "ax[2][0].legend()\n",
    "ax[2][1].boxplot([pages_ratio_unchurn['adjust'],pages_ratio_churn['adjust']] , labels = ['unchurn', 'churn'])\n",
    "\n",
    "# 下图显示，正常用户最近一次使用积极互动类页面访问比例高于流失用户的该比例；\n",
    "# 正常用户最近一次使用体验差类页面访问比例低于流失用户的该比例；\n",
    "# 正常用户最近一次使用调整级别类页面访问比例低于流失用户的该比例；"
   ]
  },
  {
   "cell_type": "code",
   "execution_count": 52,
   "metadata": {},
   "outputs": [],
   "source": [
    "# 14. 正常用户和流失用户每次使用的间隔时间？\n",
    "## 提取用户使用时间数据集\n",
    "time_df = df.select(['churn_user', 'userId', 'sessionId', 'ts']) \\\n",
    "            .groupBy(['churn_user', 'userId', 'sessionId']) \\\n",
    "            .agg(min('ts').alias('begin'), max('ts').alias('end')) \\\n",
    "            .orderBy(['churn_user', 'userId', 'sessionId'])\n",
    "## 删除其中只使用一次的用户\n",
    "new = time_df.groupBy('userId').count()\n",
    "morethan2sessions_users = new.filter(col('count') > 1).select(collect_list('userId')).first()[0]\n",
    "is_more_than2 = udf(lambda x: 1 if x in morethan2sessions_users else 0, IntegerType())\n",
    "time_df = time_df.withColumn('2+', is_more_than2(time_df.userId)).filter(col('2+') == 1)\n",
    "## 计算用户每次使用与上次使用的间隔时间\n",
    "w1 = Window.partitionBy('userId').orderBy('sessionId')\n",
    "timestamp_df = time_df.withColumn('last_end', lag(col('end')).over(w1)) \\\n",
    "                .withColumn('timestamp', col('begin') - col('last_end'))\n",
    "## 计算用户最近两次使用的间隔时间\n",
    "w2 = Window.partitionBy('userId').orderBy('sessionId') \\\n",
    "            .rangeBetween(Window.unboundedPreceding, Window.unboundedFollowing)\n",
    "timestamp_df = timestamp_df.withColumn('newest_timestamp', last(col('timestamp')).over(w2)) \\\n",
    "                .select(['churn_user', 'userId', 'newest_timestamp']).dropDuplicates().toPandas()"
   ]
  },
  {
   "cell_type": "code",
   "execution_count": 53,
   "metadata": {},
   "outputs": [
    {
     "name": "stderr",
     "output_type": "stream",
     "text": [
      "C:\\Users\\j-hua\\Anaconda3\\lib\\site-packages\\numpy\\core\\fromnumeric.py:52: FutureWarning: reshape is deprecated and will raise in a subsequent release. Please use .values.reshape(...) instead\n",
      "  return getattr(obj, method)(*args, **kwds)\n"
     ]
    },
    {
     "data": {
      "text/plain": [
       "{'whiskers': [<matplotlib.lines.Line2D at 0x14fc8bdb400>,\n",
       "  <matplotlib.lines.Line2D at 0x14fc8bdb898>,\n",
       "  <matplotlib.lines.Line2D at 0x14fc8bfb208>,\n",
       "  <matplotlib.lines.Line2D at 0x14fc8bfb630>],\n",
       " 'caps': [<matplotlib.lines.Line2D at 0x14fc8bdbcc0>,\n",
       "  <matplotlib.lines.Line2D at 0x14fc8bee128>,\n",
       "  <matplotlib.lines.Line2D at 0x14fc8bfba58>,\n",
       "  <matplotlib.lines.Line2D at 0x14fc8bfbe80>],\n",
       " 'boxes': [<matplotlib.lines.Line2D at 0x14fc8bdb2b0>,\n",
       "  <matplotlib.lines.Line2D at 0x14fc8beed68>],\n",
       " 'medians': [<matplotlib.lines.Line2D at 0x14fc8bee550>,\n",
       "  <matplotlib.lines.Line2D at 0x14fc8dcd2e8>],\n",
       " 'fliers': [<matplotlib.lines.Line2D at 0x14fc8bee978>,\n",
       "  <matplotlib.lines.Line2D at 0x14fc8dcd710>],\n",
       " 'means': []}"
      ]
     },
     "execution_count": 53,
     "metadata": {},
     "output_type": "execute_result"
    },
    {
     "data": {
      "image/png": "[encoded data removed]",
      "text/plain": [
       "<Figure size 864x432 with 2 Axes>"
      ]
     },
     "metadata": {},
     "output_type": "display_data"
    }
   ],
   "source": [
    "## 对正常用户和流失用户最近两次使用的时间间隔进行作图\n",
    "fig, ax = plt.subplots(1,2, figsize = (12,6))\n",
    "ax[0].hist(timestamp_df[timestamp_df.churn_user == 0].newest_timestamp, \\\n",
    "           label = 'unchurn', color = 'g', alpha = 0.3, bins = 20)\n",
    "ax[0].hist(timestamp_df[timestamp_df.churn_user == 1].newest_timestamp, \\\n",
    "           label = 'churn', color = 'r', alpha = 0.3, bins = 20)\n",
    "ax[0].legend();\n",
    "ax[1].boxplot([timestamp_df[timestamp_df.churn_user == 0].newest_timestamp, \\\n",
    "              timestamp_df[timestamp_df.churn_user == 1].newest_timestamp], \\\n",
    "             labels = ['unchurn','churn'])\n",
    "\n",
    "# 下图显示正常用户最近两次使用的时间间隔更长"
   ]
  },
  {
   "cell_type": "markdown",
   "metadata": {},
   "source": [
    "#### 探索性数据分析结论\n",
    "1. 流失用户的最新的level状态(paid/free)，付费的比例更高；\n",
    "2. 流失用户的注册后使用时长更短；\n",
    "3. 流失用户在不同地区分布非常不均衡；\n",
    "4. 流失用户的在不同操作系统和浏览器上同样分布非常不均衡；\n",
    "5. 流失用户平均使用次数更少，但每次使用时间更长，听歌数量更多；\n",
    "5. 流失用户最近一次使用时听歌页面所占浏览页面的比例更低，积极互动类页面所占比例更低，体验差类和级别调整类页面所占比例更高；\n",
    "6. 流失用户最近两次使用的时间间隔更短。\n"
   ]
  },
  {
   "cell_type": "markdown",
   "metadata": {},
   "source": [
    "# 特征工程\n",
    "熟悉了数据之后，就可以构建你认为会对训练模型帮助最大的特征。要处理完整数据集，你可以按照下述步骤：\n",
    "- 写一个脚本来从小数据集中提取你需要的特征\n",
    "- 确保你的脚本可以拓展到大数据集上，使用之前教过的最佳实践原则\n",
    "- 在完整数据集上运行你的脚本，按运行情况调试代码\n",
    "\n",
    "如果是在教室的 workspace，你可以直接用里面提供的小数据集来提取特征。确保当你开始使用 Spark 集群的时候，把上述的成果迁移到大数据集上。"
   ]
  },
  {
   "cell_type": "markdown",
   "metadata": {},
   "source": [
    "#### 特征构建：因为特征是基于用户的，而提供的数据集是基于日常访问log，因此需要进行转换，所构建的特征包括：\n",
    "1. 构建label: churn_user\n",
    "2. 构建基于用户的固定特征: 包含：gender, state(from location), os, browser\n",
    "3. 构建随时间变化的动态特征：包含最新level状态，注册后使用时长，最近使用期间听歌占比，最近使用期间积极互动类页面占比，最近使用期间体验差类页面占比，最近使用期间级别调整类占比, 最近使用的时间间隔。"
   ]
  },
  {
   "cell_type": "code",
   "execution_count": 55,
   "metadata": {},
   "outputs": [],
   "source": [
    "# 定义数据清洗函数\n",
    "def clean_data(df):\n",
    "    # remove missing data\n",
    "    df = df.filter(df.userId != '')\n",
    "    # define the to_date function\n",
    "    to_date = udf(lambda x: datetime.datetime.fromtimestamp(x/1e3).strftime('%Y-%m-%d %H:%M:%S'))\n",
    "    # change the data type of 'ts' and 'registration'\n",
    "    df = df.withColumn('regist_date', to_date(df.registration))\n",
    "    df = df.withColumn('log_date', to_date(df.ts))\n",
    "    # define find_state function\n",
    "    find_state = udf(lambda x: x.split(',')[-1][1:3], StringType())\n",
    "    # create the state feature\n",
    "    df = df.withColumn('state', find_state(df.location))\n",
    "    # define find_os function and find_browser function\n",
    "    find_os =  udf(lambda x: hap.simple_detect(x)[0], StringType())\n",
    "    find_browser = udf(lambda x: hap.simple_detect(x)[1], StringType())\n",
    "    # create os and browser features\n",
    "    df = df.withColumn('os', find_os(df.userAgent))\n",
    "    df = df.withColumn('browser', find_browser(df.userAgent))\n",
    "    df = df.withColumn('oss', regexp_replace(col('os'), ' ', '_')).drop('os')\n",
    "    df = df.withColumn('os', regexp_replace(col('oss'), '\\.', '_')).drop('oss')\n",
    "    df = df.withColumn('browsers', regexp_replace(col('browser'), ' ', '_')).drop('browser')\n",
    "    df = df.withColumn('browser', regexp_replace(col('browsers'), '\\.', '_')).drop('browsers')\n",
    "    return df"
   ]
  },
  {
   "cell_type": "code",
   "execution_count": 56,
   "metadata": {},
   "outputs": [],
   "source": [
    "# 定义label标记函数\n",
    "def label(df):\n",
    "    # define churn actions\n",
    "    is_churn = udf(lambda x: 1 if x == 'Cancellation Confirmation' else 0, \\\n",
    "                   IntegerType())\n",
    "    # create the churn column\n",
    "    df = df.withColumn('churn', is_churn(df.page))\n",
    "    # get all the churn users'ID\n",
    "    churn_users = df.filter(df.churn == 1) \\\n",
    "        .select(collect_list('userId')).first()[0]\n",
    "\n",
    "    # define churn users\n",
    "    is_churn_user = udf(lambda x: 1 if x in churn_users else 0, \\\n",
    "                        IntegerType())\n",
    "\n",
    "    # create the churn_user column\n",
    "    user_labeled = df.withColumn('label', is_churn_user(df.userId)).select(['userId', 'label']) \\\n",
    "                    .dropDuplicates()\n",
    "\n",
    "    return user_labeled"
   ]
  },
  {
   "cell_type": "code",
   "execution_count": 57,
   "metadata": {},
   "outputs": [],
   "source": [
    "# 创建固定特征\n",
    "def static_features(df):\n",
    "    # 对于清理好的数据可以直接提取静态特征\n",
    "    user_static = df.select(['userId', 'gender', 'state', 'os', 'browser']).dropDuplicates()\n",
    "    return user_static"
   ]
  },
  {
   "cell_type": "code",
   "execution_count": 58,
   "metadata": {},
   "outputs": [],
   "source": [
    "# 创建now_level特征，提取用户最新level状态\n",
    "def get_level(df):\n",
    "    w0 = Window.partitionBy('userId').orderBy(desc('ts')).rangeBetween(Window.unboundedPreceding, 0)\n",
    "    df_with_newlevel = df.withColumn('now_level', first('level').over(w0))\n",
    "    df_with_newlevel = df_with_newlevel.select(['userId', 'now_level']).dropDuplicates()\n",
    "    return df_with_newlevel"
   ]
  },
  {
   "cell_type": "code",
   "execution_count": 59,
   "metadata": {},
   "outputs": [],
   "source": [
    "# 创建days_since_regist特征\n",
    "def get_days_since_regist(df):\n",
    "    ## 根据regist_date和最新的log_date 计算用户使用时长\n",
    "    df_with_daysinceregist = df.withColumn('days_since_regist',datediff(df.log_date, df.regist_date))\n",
    "    df_with_daysinceregist = df_with_daysinceregist.select(['userId', 'days_since_regist']) \\\n",
    "                            .groupBy('userId').max()\n",
    "    return df_with_daysinceregist"
   ]
  },
  {
   "cell_type": "code",
   "execution_count": 60,
   "metadata": {},
   "outputs": [],
   "source": [
    "# 提取每个用户最近一次使用访问的页面总数\n",
    "def get_newest_items(df):\n",
    "    # 提取用户每次使用访问的页面总数\n",
    "    user_newest_items = df.groupBy(['userId', 'sessionId']).max() \\\n",
    "                        .select(['userId', 'sessionId', 'max(itemInSession)'])\n",
    "        \n",
    "    user_window = Window.partitionBy('userId').orderBy(asc('sessionId')) \\\n",
    "                    .rangeBetween(Window.unboundedPreceding, Window.unboundedFollowing)\n",
    "    # 提取用户最近一次使用访问的页面总数\n",
    "    user_newest_items = user_newest_items.withColumn('max_item', last(col('max(itemInSession)')).over(user_window)) \\\n",
    "                        .select(['userId', 'max_item']).dropDuplicates()\n",
    "    return user_newest_items"
   ]
  },
  {
   "cell_type": "code",
   "execution_count": 61,
   "metadata": {},
   "outputs": [],
   "source": [
    "def get_pages(df):\n",
    "    # 分别定义积极互动类页面/体验差类页面/级别调整类页面\n",
    "    act_pages = ['Add to Playlist', 'Add Friend', 'Thumbs Up']\n",
    "    bad_pages = ['Error', 'Roll Advert', 'Thumbs Down']\n",
    "    adjust_pages = ['Upgrade', 'Downgrade', 'Submit Upgrade', 'Submit Downgrade']\n",
    "    \n",
    "    # 定义访问页面是否是歌曲/积极互动/体验差/级别调整这四类的标记函数\n",
    "    is_song = udf(lambda x: 1 if x == 'NextSong' else 0, IntegerType())\n",
    "    is_active = udf(lambda x : 1 if x in act_pages else 0, IntegerType())\n",
    "    is_bad = udf(lambda x : 1 if x in bad_pages else 0, IntegerType())\n",
    "    is_adjust = udf(lambda x : 1 if x in adjust_pages else 0, IntegerType())\n",
    "    \n",
    "    # 创建四类页面的特征列\n",
    "    df = df.withColumn('song', is_song(df.page))\n",
    "    df = df.withColumn('active', is_active(df.page))\n",
    "    df = df.withColumn('bad', is_bad(df.page))\n",
    "    df = df.withColumn('adjust', is_adjust(df.page))\n",
    "    \n",
    "    return df"
   ]
  },
  {
   "cell_type": "code",
   "execution_count": 62,
   "metadata": {},
   "outputs": [],
   "source": [
    "# 创建用户访问歌曲/积极互动/体验差/级别调整这四类页面的占比函数\n",
    "def get_ratios(df):\n",
    "    # 提取用户最近一次使用访问的页面总数\n",
    "    items =  get_newest_items(df)\n",
    "    # 创建用户访问四类页面的特征列\n",
    "    df = get_pages(df)\n",
    "    # 计算用户每次使用四类页面的访问数量\n",
    "    new_df = df.groupby(['userId', 'sessionId']).sum() \\\n",
    "                .select(['userId', 'sessionId', 'sum(song)', 'sum(active)', 'sum(bad)', 'sum(adjust)'])\n",
    "        \n",
    "    user_window = Window.partitionBy('userId').orderBy(asc('sessionId')) \\\n",
    "                    .rangeBetween(Window.unboundedPreceding, Window.unboundedFollowing)\n",
    "    # 计算用户最近一次使用四类页面的访问数量\n",
    "    new_df = new_df.withColumn('song_sum', last(col('sum(song)')).over(user_window))\n",
    "    new_df = new_df.withColumn('active_sum', last(col('sum(active)')).over(user_window))\n",
    "    new_df = new_df.withColumn('bad_sum', last(col('sum(bad)')).over(user_window))\n",
    "    new_df = new_df.withColumn('adjust_sum', last(col('sum(adjust)')).over(user_window))\n",
    "    new_df = new_df.select(['userId', 'song_sum', 'active_sum', 'bad_sum', 'adjust_sum']).dropDuplicates()\n",
    "    \n",
    "    # 计算用户最近一次使用四类页面的访问占比\n",
    "    ratio_df = items.join(new_df, 'userId').withColumn('items', col('max_item') + 1) \\\n",
    "                        .withColumn('song_ratio', col('song_sum')/col('items')) \\\n",
    "                        .withColumn('active_ratio', col('active_sum')/col('items')) \\\n",
    "                        .withColumn('bad_ratio', col('bad_sum')/col('items')) \\\n",
    "                        .withColumn('adjust_ratio', col('adjust_sum')/col('items'))\n",
    "    ratio_df = ratio_df.select(['userId', 'song_ratio', 'active_ratio', 'bad_ratio', 'adjust_ratio'])\n",
    "    \n",
    "    return ratio_df"
   ]
  },
  {
   "cell_type": "code",
   "execution_count": 63,
   "metadata": {},
   "outputs": [],
   "source": [
    "# 创建用户最近两次使用的时间间隔\n",
    "def get_timestamp(df):\n",
    "    ## 提取用户使用时间数据集\n",
    "    time_df = df.select(['userId', 'sessionId', 'ts']) \\\n",
    "                .groupBy(['userId', 'sessionId']) \\\n",
    "                .agg(min('ts').alias('begin'), max('ts').alias('end')) \\\n",
    "                .orderBy(['userId', 'sessionId'])\n",
    "    ## 删除其中只使用一次的用户\n",
    "    new = time_df.groupBy('userId').count()\n",
    "    morethan2sessions_users = new.filter(col('count') > 1).select(collect_list('userId')).first()[0]\n",
    "    is_more_than2 = udf(lambda x: 1 if x in morethan2sessions_users else 0, IntegerType())\n",
    "    time_df = time_df.withColumn('2+', is_more_than2(time_df.userId)).filter(col('2+') == 1)\n",
    "    ## 计算用户每次使用与上次使用的间隔时间\n",
    "    w1 = Window.partitionBy('userId').orderBy('sessionId')\n",
    "    timestamp_df = time_df.withColumn('last_end', lag(col('end')).over(w1)).withColumn('timestamp', col('begin') - col('last_end'))\n",
    "    ## 计算用户最近两次使用的间隔时间\n",
    "    w2 = Window.partitionBy('userId').orderBy('sessionId').rangeBetween(Window.unboundedPreceding, Window.unboundedFollowing)\n",
    "    timestamp_df = timestamp_df.withColumn('newest_timestamp', last(col('timestamp')).over(w2)).select(['userId', 'newest_timestamp']).dropDuplicates()\n",
    "\n",
    "    return timestamp_df"
   ]
  },
  {
   "cell_type": "code",
   "execution_count": 64,
   "metadata": {},
   "outputs": [],
   "source": [
    "def dynamic_features(df):\n",
    "    df1 = get_level(df)\n",
    "    df2 = get_days_since_regist(df)\n",
    "    df3 = get_ratios(df)\n",
    "    df4 = get_timestamp(df)\n",
    "    dynamic_df = df1.join(df2, 'userId') \\\n",
    "                    .join(df3, 'userId') \\\n",
    "                    .join(df4, 'userId', how = 'full').na.fill(0)\n",
    "    \n",
    "    return dynamic_df"
   ]
  },
  {
   "cell_type": "code",
   "execution_count": 65,
   "metadata": {},
   "outputs": [],
   "source": [
    "def get_features_and_label(df):\n",
    "    df = clean_data(df)\n",
    "    labeled_df = label(df)\n",
    "    static_df = static_features(df)\n",
    "    dynamic_df = dynamic_features(df)\n",
    "    featured_df = labeled_df.join(static_df, 'userId') \\\n",
    "                    .join(dynamic_df, 'userId')\n",
    "    \n",
    "    return featured_df"
   ]
  },
  {
   "cell_type": "code",
   "execution_count": null,
   "metadata": {},
   "outputs": [],
   "source": [
    "df = spark.read.json('medium-sparkify-event-data.json')"
   ]
  },
  {
   "cell_type": "code",
   "execution_count": 66,
   "metadata": {},
   "outputs": [],
   "source": [
    "df = get_features_and_label(df)"
   ]
  },
  {
   "cell_type": "code",
   "execution_count": 67,
   "metadata": {},
   "outputs": [
    {
     "name": "stdout",
     "output_type": "stream",
     "text": [
      "+------+-----+------+-----+--------------------+--------------------+---------+----------------------+-------------------+-------------------+--------------------+--------------------+----------------+\n",
      "|userId|label|gender|state|                  os|             browser|now_level|max(days_since_regist)|         song_ratio|       active_ratio|           bad_ratio|        adjust_ratio|newest_timestamp|\n",
      "+------+-----+------+-----+--------------------+--------------------+---------+----------------------+-------------------+-------------------+--------------------+--------------------+----------------+\n",
      "|100010|    1|     F|   CT|    iPhone_iOS_7_1_2|          Safari_7_0|     free|                    14| 0.6911764705882353|0.04411764705882353| 0.19117647058823528|0.029411764705882353|       237681000|\n",
      "|200002|    1|     M|   IL|      iPhone_iOS_7_1|          Safari_7_0|     paid|                    53| 0.7553956834532374|0.03597122302158273| 0.02158273381294964|0.014388489208633094|      1476475000|\n",
      "|   296|    1|     F|   PA|MacOS_Macintosh_X...|        Safari_7_0_6|     paid|                    27| 0.8095238095238095|                0.0|                 0.0|0.047619047619047616|        55193000|\n",
      "|   125|    0|     M|   TX|MacOS_Macintosh_X...|Chrome_36_0_1985_125|     free|                   105|                0.5|              0.125|                0.25|                 0.0|      2032242000|\n",
      "|   124|    1|     F|   NJ|MacOS_Macintosh_X...|Chrome_36_0_1985_143|     paid|                   112| 0.8222222222222222|0.06666666666666667|                 0.0|0.044444444444444446|       213200000|\n",
      "|    51|    1|     M|   KY|           Windows_7|Chrome_36_0_1985_143|     paid|                    19| 0.8287292817679558|0.08839779005524862|0.016574585635359115|0.016574585635359115|       357278000|\n",
      "|     7|    0|     M|   WA|           Windows_7|        Firefox_31_0|     free|                    78|0.47368421052631576|                0.0| 0.10526315789473684|                 0.0|       579015000|\n",
      "|200037|    1|     M|   GA|    iPhone_iOS_7_1_2|          Safari_7_0|     free|                    43| 0.7833333333333333|               0.05| 0.06666666666666667|                 0.0|        32451000|\n",
      "|   169|    0|     M|   IN|MacOS_Macintosh_X...|        Safari_7_0_5|     free|                    78|              0.875|                0.0| 0.08333333333333333|                 0.0|       134908000|\n",
      "|   205|    0|     F|   IL|MacOS_Macintosh_X...| Chrome_37_0_2062_94|     paid|                    53|  0.801358234295416| 0.0865874363327674|0.006791171477079796|0.010186757215619695|       527062000|\n",
      "|   272|    0|     F|   NC|           Windows_7|Chrome_35_0_1916_153|     free|                    28| 0.7230769230769231| 0.1076923076923077| 0.12307692307692308|                 0.0|       910981000|\n",
      "|    15|    0|     M|   WV|           Windows_7|Chrome_36_0_1985_143|     paid|                    56| 0.8763250883392226|0.08480565371024736|0.003533568904593...|0.003533568904593...|       138512000|\n",
      "|   232|    0|     F|   CA|MacOS_Macintosh_X...| Chrome_37_0_2062_94|     paid|                   107| 0.8494623655913979| 0.0967741935483871|                 0.0| 0.03225806451612903|       246182000|\n",
      "|   234|    1|     M|   LA|           Windows_7|        Firefox_30_0|     paid|                    36| 0.7899543378995434| 0.0821917808219178|  0.0319634703196347|  0.0045662100456621|         7259000|\n",
      "|   282|    0|     M|   CA|           Windows_8|Chrome_36_0_1985_125|     paid|                    78| 0.7913669064748201|0.06474820143884892| 0.02158273381294964|0.014388489208633094|        65170000|\n",
      "|    54|    1|     F|   WA|           Windows_7|        Firefox_32_0|     paid|                    75|                0.5|                0.0|                 0.0|               0.125|       150173000|\n",
      "|   155|    0|     F|   IL|MacOS_Macintosh_X...|Chrome_36_0_1985_143|     paid|                    95| 0.7166666666666667|0.06666666666666667|0.016666666666666666|                 0.0|        72685000|\n",
      "|200043|    0|     F|   MA|MacOS_Macintosh_X...|        Firefox_31_0|     paid|                    50| 0.7692307692307693|                0.0| 0.15384615384615385|                 0.0|       140352000|\n",
      "|100014|    1|     M|   NY|           Windows_7|Chrome_36_0_1985_143|     paid|                    54| 0.7708333333333334|               0.05|              0.0125|0.020833333333333332|       177005000|\n",
      "|   132|    1|     F|   CO|MacOS_Macintosh_X...|        Safari_7_0_5|     paid|                    23|               0.25|                0.0|                 0.0|                0.25|       544575000|\n",
      "+------+-----+------+-----+--------------------+--------------------+---------+----------------------+-------------------+-------------------+--------------------+--------------------+----------------+\n",
      "only showing top 20 rows\n",
      "\n"
     ]
    }
   ],
   "source": [
    "df.show()"
   ]
  },
  {
   "cell_type": "markdown",
   "metadata": {},
   "source": [
    "#### 得到的数据集中有五个特征是类别变量，需要进行转换，使用pandas dataframe格式进行转换"
   ]
  },
  {
   "cell_type": "code",
   "execution_count": 68,
   "metadata": {},
   "outputs": [],
   "source": [
    "# 定义特征转换函数，将所有类别特征转化为数字\n",
    "def feature_transform(df):\n",
    "    # 将spark dataframe转换为pandas dataframe\n",
    "    new_df = df.toPandas()\n",
    "    # 从dataframe中提取并删除userId列\n",
    "    users = new_df.userId\n",
    "    new_df_without_users = new_df.drop('userId', axis = 1)\n",
    "    # 创建所有类别变量的哑变量\n",
    "    new_df_without_users = pd.get_dummies(new_df_without_users, \\\n",
    "                                          prefix = ['gender_', 'state_', 'os_','browser_', 'now_level_'])\n",
    "    # 再将userId列重新加入\n",
    "    new_df = new_df_without_users.join(users)\n",
    "    # 将pandas dataframe转换为spark dataframe\n",
    "    transformed_df = spark.createDataFrame(new_df.values.tolist(), new_df.columns.tolist())\n",
    "    \n",
    "    return transformed_df"
   ]
  },
  {
   "cell_type": "code",
   "execution_count": 69,
   "metadata": {},
   "outputs": [],
   "source": [
    "df = feature_transform(df)"
   ]
  },
  {
   "cell_type": "markdown",
   "metadata": {},
   "source": [
    "# 建模\n",
    "将完整数据集分成训练集、测试集和验证集。测试几种你学过的机器学习方法。评价不同机器学习方法的准确率，根据情况调节参数。根据准确率你挑选出表现最好的那个模型，然后报告在训练集上的结果。因为流失顾客数据集很小，我建议选用 F1 score 作为优化指标。"
   ]
  },
  {
   "cell_type": "code",
   "execution_count": 70,
   "metadata": {},
   "outputs": [],
   "source": [
    "# split the dataset into train, validation, test\n",
    "train, test = df.randomSplit([0.8, 0.2], seed = 42)\n",
    "train, validation = train.randomSplit([0.75, 0.25], seed = 42)"
   ]
  },
  {
   "cell_type": "code",
   "execution_count": 71,
   "metadata": {},
   "outputs": [],
   "source": [
    "# feutures to be converted into vector\n",
    "feature_cols = df.drop('userId').drop('label').columns"
   ]
  },
  {
   "cell_type": "code",
   "execution_count": 84,
   "metadata": {},
   "outputs": [],
   "source": [
    "# build the pipeline\n",
    "def build_pipeline(classifier, grid, numFolds = 3):\n",
    "    '''\n",
    "    Input\n",
    "    classifier: ML classifier\n",
    "    grid:  param grid used in grid search-based model selection\n",
    "    numFolds: number of the folds for cross validation\n",
    "    \n",
    "    Output\n",
    "    cv: crossvalidator \n",
    "    \n",
    "    ''' \n",
    "    assembler = VectorAssembler(inputCols = feature_cols, outputCol = 'features_vec')\n",
    "    scalar = StandardScaler(inputCol = 'features_vec', outputCol = 'features')\n",
    "    pipeline = Pipeline(stages = [assembler, scalar, classifier])\n",
    "    evaluator = MulticlassClassificationEvaluator()\n",
    "    cv = CrossValidator(estimator = pipeline, estimatorParamMaps = grid, evaluator = evaluator, numFolds = numFolds)\n",
    "    return cv"
   ]
  },
  {
   "cell_type": "code",
   "execution_count": 85,
   "metadata": {},
   "outputs": [],
   "source": [
    "# train the model\n",
    "def trainmodel(trainset, classifier, grid, numFolds = 3):\n",
    "    '''\n",
    "    Input\n",
    "    trainset: dataset used to train the model\n",
    "    classifier: ML classifier\n",
    "    grid:  param grid used in grid search-based model selection\n",
    "    numFolds: number of the folds for cross validation\n",
    "    \n",
    "    Output\n",
    "    cv_model: model has been trained\n",
    "    \n",
    "    ''' \n",
    "    cv_model = build_pipeline(classifier,grid,numFolds).fit(trainset)\n",
    "    return cv_model"
   ]
  },
  {
   "cell_type": "code",
   "execution_count": 86,
   "metadata": {},
   "outputs": [],
   "source": [
    "# get the evaluation of the model on the testset\n",
    "def evaluatmodel(model, trainset, testset):\n",
    "    '''\n",
    "    Input\n",
    "    model: ML model has been trained\n",
    "    testset: dataset used to be evaluate the model\n",
    "    \n",
    "    Output\n",
    "    evaldict: dict with f1 score and accuracy for the trainset and testset\n",
    "    \n",
    "    ''' \n",
    "    result_train = model.transform(trainset)\n",
    "    result_test = model.transform(testset)\n",
    "    evaluator = MulticlassClassificationEvaluator()\n",
    "    train_f1_score = evaluator.evaluate(result_train, {evaluator.metricName:'f1'})\n",
    "    train_accuracy = evaluator.evaluate(result_train, {evaluator.metricName:'accuracy'})\n",
    "    test_f1_score = evaluator.evaluate(result_test, {evaluator.metricName:'f1'})\n",
    "    test_accuracy = evaluator.evaluate(result_test, {evaluator.metricName:'accuracy'})\n",
    "    evaldict = {'train_f1':train_f1_score, \\\n",
    "                'train_accuracy':train_accuracy, \\\n",
    "                'test_f1':test_f1_score, \\\n",
    "                'test_accuracy':test_accuracy}\n",
    "    return evaldict"
   ]
  },
  {
   "cell_type": "code",
   "execution_count": 87,
   "metadata": {},
   "outputs": [],
   "source": [
    "# LogisticRegression Model\n",
    "lr = LogisticRegression(featuresCol='features', labelCol='label')\n",
    "grid = ParamGridBuilder().build()\n",
    "lr_model = trainmodel(train, lr, grid)\n",
    "lr_evaldict = evaluatmodel(lr_model, train, validation)"
   ]
  },
  {
   "cell_type": "code",
   "execution_count": 88,
   "metadata": {},
   "outputs": [
    {
     "data": {
      "text/plain": [
       "{'train_f1': 0.8935293444897766,\n",
       " 'train_accuracy': 0.897887323943662,\n",
       " 'test_f1': 0.6964818463270477,\n",
       " 'test_accuracy': 0.7176470588235294}"
      ]
     },
     "execution_count": 88,
     "metadata": {},
     "output_type": "execute_result"
    }
   ],
   "source": [
    "lr_evaldict"
   ]
  },
  {
   "cell_type": "code",
   "execution_count": 89,
   "metadata": {},
   "outputs": [],
   "source": [
    "# GBDT Model\n",
    "gbdt = GBTClassifier(featuresCol='features', labelCol='label', seed = 42)\n",
    "gbdt_grid = ParamGridBuilder().build()\n",
    "gbdt_model = trainmodel(train, gbdt, gbdt_grid)\n",
    "gbdt_evaldict = evaluatmodel(gbdt_model, train, validation)"
   ]
  },
  {
   "cell_type": "code",
   "execution_count": 90,
   "metadata": {},
   "outputs": [
    {
     "data": {
      "text/plain": [
       "{'train_f1': 1.0,\n",
       " 'train_accuracy': 1.0,\n",
       " 'test_f1': 0.7312526148439461,\n",
       " 'test_accuracy': 0.7529411764705882}"
      ]
     },
     "execution_count": 90,
     "metadata": {},
     "output_type": "execute_result"
    }
   ],
   "source": [
    "gbdt_evaldict"
   ]
  },
  {
   "cell_type": "code",
   "execution_count": 91,
   "metadata": {},
   "outputs": [],
   "source": [
    "# NaiveBayes model\n",
    "nbbayes = NaiveBayes(featuresCol='features', labelCol='label')\n",
    "nbbayes_grid = ParamGridBuilder().build()\n",
    "nbbayes_model = trainmodel(train, nbbayes, nbbayes_grid)\n",
    "nbbayes_evaldict = evaluatmodel(nbbayes_model, train, validation)"
   ]
  },
  {
   "cell_type": "code",
   "execution_count": 92,
   "metadata": {},
   "outputs": [
    {
     "data": {
      "text/plain": [
       "{'train_f1': 0.8542432200426031,\n",
       " 'train_accuracy': 0.8485915492957746,\n",
       " 'test_f1': 0.6235294117647059,\n",
       " 'test_accuracy': 0.6235294117647059}"
      ]
     },
     "execution_count": 92,
     "metadata": {},
     "output_type": "execute_result"
    }
   ],
   "source": [
    "nbbayes_evaldict"
   ]
  },
  {
   "cell_type": "code",
   "execution_count": 93,
   "metadata": {},
   "outputs": [],
   "source": [
    "# Random forest model\n",
    "\n",
    "rfc = RandomForestClassifier(featuresCol='features', labelCol='label', seed = 42)\n",
    "rfc_grid = ParamGridBuilder().build()\n",
    "rfc_model = trainmodel(train, rfc, rfc_grid)\n",
    "rfc_evaldict = evaluatmodel(rfc_model, train, validation)"
   ]
  },
  {
   "cell_type": "code",
   "execution_count": 94,
   "metadata": {},
   "outputs": [
    {
     "data": {
      "text/plain": [
       "{'train_f1': 0.7756539235412474,\n",
       " 'train_accuracy': 0.8309859154929577,\n",
       " 'test_f1': 0.6420494225087295,\n",
       " 'test_accuracy': 0.7411764705882353}"
      ]
     },
     "execution_count": 94,
     "metadata": {},
     "output_type": "execute_result"
    }
   ],
   "source": [
    "rfc_evaldict"
   ]
  },
  {
   "cell_type": "markdown",
   "metadata": {},
   "source": [
    "#### 上述结果显示GBDT是该数据集的最佳分类器，对GBDT model进行超参数调节"
   ]
  },
  {
   "cell_type": "code",
   "execution_count": 95,
   "metadata": {},
   "outputs": [],
   "source": [
    "# GBDT Model\n",
    "gbdt = GBTClassifier(featuresCol='features', labelCol='label', seed = 42)\n",
    "gbdt_grid = ParamGridBuilder() \\\n",
    "            .addGrid(gbdt.maxDepth, [3.0, 5.0, 7.0]) \\\n",
    "            .addGrid(gbdt.maxIter, [20, 50, 100]) \\\n",
    "            .addGrid(gbdt.stepSize, [0.05, 0.1, 0.3]) \\\n",
    "            .build()\n",
    "gbdt_model = trainmodel(train, gbdt, gbdt_grid)\n",
    "gbdt_evaldict = evaluatmodel(gbdt_model, train, validation)"
   ]
  },
  {
   "cell_type": "code",
   "execution_count": 96,
   "metadata": {},
   "outputs": [
    {
     "data": {
      "text/plain": [
       "{'train_f1': 0.9964668647443633,\n",
       " 'train_accuracy': 0.9964788732394366,\n",
       " 'test_f1': 0.8185640425324359,\n",
       " 'test_accuracy': 0.8352941176470589}"
      ]
     },
     "execution_count": 96,
     "metadata": {},
     "output_type": "execute_result"
    }
   ],
   "source": [
    "# 超参数优化后的模型效果\n",
    "gbdt_evaldict"
   ]
  },
  {
   "cell_type": "code",
   "execution_count": 97,
   "metadata": {},
   "outputs": [
    {
     "data": {
      "text/plain": [
       "{'train_f1': 0.9964668647443633,\n",
       " 'train_accuracy': 0.9964788732394366,\n",
       " 'test_f1': 0.7509041591320074,\n",
       " 'test_accuracy': 0.7721518987341772}"
      ]
     },
     "execution_count": 97,
     "metadata": {},
     "output_type": "execute_result"
    }
   ],
   "source": [
    "# 超参数优化后的模型在最终test集上的效果效果\n",
    "gbdt_evaldict_test = evaluatmodel(gbdt_model, train, test)\n",
    "gbdt_evaldict_test"
   ]
  },
  {
   "cell_type": "code",
   "execution_count": 98,
   "metadata": {},
   "outputs": [],
   "source": [
    "# 重要特征提取\n",
    "final_model = gbdt_model.bestModel.stages[2]"
   ]
  },
  {
   "cell_type": "code",
   "execution_count": 99,
   "metadata": {},
   "outputs": [],
   "source": [
    "feature_index = final_model.featureImportances.indices.tolist()\n",
    "feature_names = []\n",
    "for i in feature_index:\n",
    "    feature_names.append(feature_cols[i])\n",
    "feature_importance = final_model.featureImportances.values\n",
    "feature_importance_df = pd.DataFrame(feature_importance, index = feature_names, columns = ['importance'])"
   ]
  },
  {
   "cell_type": "code",
   "execution_count": 100,
   "metadata": {},
   "outputs": [
    {
     "data": {
      "text/html": [
       "<div>\n",
       "<style scoped>\n",
       "    .dataframe tbody tr th:only-of-type {\n",
       "        vertical-align: middle;\n",
       "    }\n",
       "\n",
       "    .dataframe tbody tr th {\n",
       "        vertical-align: top;\n",
       "    }\n",
       "\n",
       "    .dataframe thead th {\n",
       "        text-align: right;\n",
       "    }\n",
       "</style>\n",
       "<table border=\"1\" class=\"dataframe\">\n",
       "  <thead>\n",
       "    <tr style=\"text-align: right;\">\n",
       "      <th></th>\n",
       "      <th>importance</th>\n",
       "    </tr>\n",
       "  </thead>\n",
       "  <tbody>\n",
       "    <tr>\n",
       "      <th>newest_timestamp</th>\n",
       "      <td>0.142125</td>\n",
       "    </tr>\n",
       "    <tr>\n",
       "      <th>song_ratio</th>\n",
       "      <td>0.120767</td>\n",
       "    </tr>\n",
       "    <tr>\n",
       "      <th>max(days_since_regist)</th>\n",
       "      <td>0.119144</td>\n",
       "    </tr>\n",
       "    <tr>\n",
       "      <th>bad_ratio</th>\n",
       "      <td>0.080090</td>\n",
       "    </tr>\n",
       "    <tr>\n",
       "      <th>active_ratio</th>\n",
       "      <td>0.069089</td>\n",
       "    </tr>\n",
       "  </tbody>\n",
       "</table>\n",
       "</div>"
      ],
      "text/plain": [
       "                        importance\n",
       "newest_timestamp          0.142125\n",
       "song_ratio                0.120767\n",
       "max(days_since_regist)    0.119144\n",
       "bad_ratio                 0.080090\n",
       "active_ratio              0.069089"
      ]
     },
     "execution_count": 100,
     "metadata": {},
     "output_type": "execute_result"
    }
   ],
   "source": [
    "feature_importance_df.sort_values(by = 'importance', ascending = False)[:5]"
   ]
  },
  {
   "cell_type": "markdown",
   "metadata": {},
   "source": [
    "#### 使用GBDT分类器， 在训练数据集上F1分数达到1，在验证集上F1分数达到0.82，测试集上达到0.75.\n",
    "#### 对模型中不同特征的重要性进行排序，最重要的5个特征为: newest_timestamp，song_ratio，max(days_since_regist)，bad_ratio, active_ratio."
   ]
  },
  {
   "cell_type": "markdown",
   "metadata": {},
   "source": [
    "# 最后一步\n",
    "清理你的代码，添加注释和重命名变量，使得代码更易读和易于维护。参考 Spark 项目概述页面和数据科学家毕业项目审阅要求，确保你的项目包含了毕业项目要求的所有内容，并且满足所有审阅要求。记得在 GitHub 代码库里包含一份全面的文档——README文件，以及一个网络应用程序或博客文章。"
   ]
  },
  {
   "cell_type": "code",
   "execution_count": null,
   "metadata": {},
   "outputs": [],
   "source": []
  }
 ],
 "metadata": {
  "kernelspec": {
   "display_name": "Python [default]",
   "language": "python",
   "name": "python3"
  },
  "language_info": {
   "codemirror_mode": {
    "name": "ipython",
    "version": 3
   },
   "file_extension": ".py",
   "mimetype": "text/x-python",
   "name": "python",
   "nbconvert_exporter": "python",
   "pygments_lexer": "ipython3",
   "version": "3.6.5"
  }
 },
 "nbformat": 4,
 "nbformat_minor": 2
}
